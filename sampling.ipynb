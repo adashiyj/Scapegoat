{
 "cells": [
  {
   "cell_type": "code",
   "execution_count": 1,
   "id": "8fcce7f6-84b9-41cd-8c55-e20e73e03111",
   "metadata": {},
   "outputs": [],
   "source": [
    "from striprtf.striprtf import rtf_to_text\n",
    "import json\n",
    "import pandas as pd"
   ]
  },
  {
   "cell_type": "markdown",
   "id": "9967970c-ad13-454d-99b6-da2071f3e6c6",
   "metadata": {},
   "source": [
    "### Convert the rft file into a JSON file"
   ]
  },
  {
   "cell_type": "code",
   "execution_count": 2,
   "id": "e2af40f8-5bf2-4ca8-8fa4-a6f929631f24",
   "metadata": {},
   "outputs": [
    {
     "name": "stdout",
     "output_type": "stream",
     "text": [
      "Saved 1723 records into raw_data.json\n"
     ]
    }
   ],
   "source": [
    "# Step 1: Read RTF\n",
    "with open('raw_data.rtf', 'r', encoding='utf-8') as file:\n",
    "    rtf_content = file.read()\n",
    "\n",
    "# Step 2: Convert to plain text\n",
    "plain_text = rtf_to_text(rtf_content)\n",
    "\n",
    "# Step 3: Load JSON\n",
    "try:\n",
    "    data = json.loads(plain_text)\n",
    "except json.JSONDecodeError as e:\n",
    "    print(\"Failed to decode JSON:\", e)\n",
    "    data = []\n",
    "\n",
    "# Step 4: Save to JSON file\n",
    "if data:\n",
    "    with open('raw_data.json', 'w', encoding='utf-8', errors='replace') as f:\n",
    "        json.dump(data, f, indent=4, ensure_ascii=False)\n",
    "    print(f\"Saved {len(data)} records into raw_data.json\")\n",
    "else:\n",
    "    print(\"No data found.\")"
   ]
  },
  {
   "cell_type": "markdown",
   "id": "bb4ca416-21f0-451f-b273-270ee66df841",
   "metadata": {},
   "source": [
    "### Data cleaning"
   ]
  },
  {
   "cell_type": "code",
   "execution_count": 3,
   "id": "b0e27d3d-10f2-4b12-8154-a0b7fddb0fd6",
   "metadata": {},
   "outputs": [],
   "source": [
    "raw_data = pd.read_json(\"raw_data.json\")"
   ]
  },
  {
   "cell_type": "code",
   "execution_count": 4,
   "id": "00b60498-835e-466c-83ed-4ff4cc18b536",
   "metadata": {},
   "outputs": [],
   "source": [
    "data_sorted = raw_data.sort_values(by='date')"
   ]
  },
  {
   "cell_type": "code",
   "execution_count": 5,
   "id": "77736e75-d9e6-47d7-b50f-2719afdfd62b",
   "metadata": {},
   "outputs": [],
   "source": [
    "data = data_sorted[['date', 'id', 'text']]"
   ]
  },
  {
   "cell_type": "code",
   "execution_count": 6,
   "id": "8d757667-b1af-4db5-ae70-1c606452dabd",
   "metadata": {},
   "outputs": [
    {
     "name": "stdout",
     "output_type": "stream",
     "text": [
      "There are a total of 1723 posts in the downloaded dataset (without retweets).\n"
     ]
    }
   ],
   "source": [
    "print(f\"There are a total of {len(data)} posts in the downloaded dataset (without retweets).\")"
   ]
  },
  {
   "cell_type": "markdown",
   "id": "0904d78d-ed3c-41ca-b085-fc27808b24c5",
   "metadata": {},
   "source": [
    "### Systematic random sampling"
   ]
  },
  {
   "cell_type": "code",
   "execution_count": 7,
   "id": "03c476f0-c8f0-4068-9290-5c7c38e5b368",
   "metadata": {},
   "outputs": [],
   "source": [
    "interval = len(data) / 1200  # 1723 / 1200 ≈ 1.4358"
   ]
  },
  {
   "cell_type": "code",
   "execution_count": 8,
   "id": "99cad756-a4cd-4862-bbd6-90f2f5d0c8ec",
   "metadata": {},
   "outputs": [],
   "source": [
    "sample_indexes = [int(i * interval) for i in range(1200)]"
   ]
  },
  {
   "cell_type": "code",
   "execution_count": 9,
   "id": "59e54465-d1ae-49bd-b506-ba29c95acd98",
   "metadata": {},
   "outputs": [],
   "source": [
    "sample_indexes = [idx for idx in sample_indexes if idx < len(data)]"
   ]
  },
  {
   "cell_type": "code",
   "execution_count": 10,
   "id": "8e17509b-74da-49fd-987f-b60284b90b4f",
   "metadata": {},
   "outputs": [],
   "source": [
    "sampled_data = data.iloc[sample_indexes].reset_index(drop=True)"
   ]
  },
  {
   "cell_type": "code",
   "execution_count": 11,
   "id": "717005da-948e-4d05-a8e2-7932fb0e1363",
   "metadata": {},
   "outputs": [
    {
     "data": {
      "text/html": [
       "<div>\n",
       "<style scoped>\n",
       "    .dataframe tbody tr th:only-of-type {\n",
       "        vertical-align: middle;\n",
       "    }\n",
       "\n",
       "    .dataframe tbody tr th {\n",
       "        vertical-align: top;\n",
       "    }\n",
       "\n",
       "    .dataframe thead th {\n",
       "        text-align: right;\n",
       "    }\n",
       "</style>\n",
       "<table border=\"1\" class=\"dataframe\">\n",
       "  <thead>\n",
       "    <tr style=\"text-align: right;\">\n",
       "      <th></th>\n",
       "      <th>date</th>\n",
       "      <th>id</th>\n",
       "      <th>text</th>\n",
       "    </tr>\n",
       "  </thead>\n",
       "  <tbody>\n",
       "    <tr>\n",
       "      <th>0</th>\n",
       "      <td>2016-07-19 04:14:11</td>\n",
       "      <td>755254384062263296</td>\n",
       "      <td>It was truly an honor to introduce my wife, Me...</td>\n",
       "    </tr>\n",
       "    <tr>\n",
       "      <th>1</th>\n",
       "      <td>2016-07-19 13:36:43</td>\n",
       "      <td>755395950089211904</td>\n",
       "      <td>\"@RoxaneTancredi:  Democrats are coming to TRU...</td>\n",
       "    </tr>\n",
       "    <tr>\n",
       "      <th>2</th>\n",
       "      <td>2016-07-19 19:34:40</td>\n",
       "      <td>755486029742641152</td>\n",
       "      <td>#MakeAmericaWorkAgain\\n#TrumpPence16 #RNCinCLE...</td>\n",
       "    </tr>\n",
       "    <tr>\n",
       "      <th>3</th>\n",
       "      <td>2016-07-19 22:12:56</td>\n",
       "      <td>755525857456844800</td>\n",
       "      <td>The ROLL CALL is beginning at the Republican N...</td>\n",
       "    </tr>\n",
       "    <tr>\n",
       "      <th>4</th>\n",
       "      <td>2016-07-19 23:52:59</td>\n",
       "      <td>755551039244341248</td>\n",
       "      <td>Such a great honor to be the Republican Nomine...</td>\n",
       "    </tr>\n",
       "    <tr>\n",
       "      <th>...</th>\n",
       "      <td>...</td>\n",
       "      <td>...</td>\n",
       "      <td>...</td>\n",
       "    </tr>\n",
       "    <tr>\n",
       "      <th>1195</th>\n",
       "      <td>2017-01-18 12:44:03</td>\n",
       "      <td>821699672687448064</td>\n",
       "      <td>to the U.S., but had nothing to do with TRUMP,...</td>\n",
       "    </tr>\n",
       "    <tr>\n",
       "      <th>1196</th>\n",
       "      <td>2017-01-18 13:06:58</td>\n",
       "      <td>821705440178348032</td>\n",
       "      <td>No wonder the Today Show on biased @NBC is doi...</td>\n",
       "    </tr>\n",
       "    <tr>\n",
       "      <th>1197</th>\n",
       "      <td>2017-01-18 14:03:53</td>\n",
       "      <td>821719763214880768</td>\n",
       "      <td>.@TheAlabamaBand was great last night in D.C. ...</td>\n",
       "    </tr>\n",
       "    <tr>\n",
       "      <th>1198</th>\n",
       "      <td>2017-01-18 22:21:02</td>\n",
       "      <td>821844875268255744</td>\n",
       "      <td>Looking forward to a speedy recovery for Georg...</td>\n",
       "    </tr>\n",
       "    <tr>\n",
       "      <th>1199</th>\n",
       "      <td>2017-01-19 01:54:13</td>\n",
       "      <td>821898525432811520</td>\n",
       "      <td>Great seeing @TheLeeGreenwood  and Kimberly at...</td>\n",
       "    </tr>\n",
       "  </tbody>\n",
       "</table>\n",
       "<p>1200 rows × 3 columns</p>\n",
       "</div>"
      ],
      "text/plain": [
       "                    date                  id  \\\n",
       "0    2016-07-19 04:14:11  755254384062263296   \n",
       "1    2016-07-19 13:36:43  755395950089211904   \n",
       "2    2016-07-19 19:34:40  755486029742641152   \n",
       "3    2016-07-19 22:12:56  755525857456844800   \n",
       "4    2016-07-19 23:52:59  755551039244341248   \n",
       "...                  ...                 ...   \n",
       "1195 2017-01-18 12:44:03  821699672687448064   \n",
       "1196 2017-01-18 13:06:58  821705440178348032   \n",
       "1197 2017-01-18 14:03:53  821719763214880768   \n",
       "1198 2017-01-18 22:21:02  821844875268255744   \n",
       "1199 2017-01-19 01:54:13  821898525432811520   \n",
       "\n",
       "                                                   text  \n",
       "0     It was truly an honor to introduce my wife, Me...  \n",
       "1     \"@RoxaneTancredi:  Democrats are coming to TRU...  \n",
       "2     #MakeAmericaWorkAgain\\n#TrumpPence16 #RNCinCLE...  \n",
       "3     The ROLL CALL is beginning at the Republican N...  \n",
       "4     Such a great honor to be the Republican Nomine...  \n",
       "...                                                 ...  \n",
       "1195  to the U.S., but had nothing to do with TRUMP,...  \n",
       "1196  No wonder the Today Show on biased @NBC is doi...  \n",
       "1197  .@TheAlabamaBand was great last night in D.C. ...  \n",
       "1198  Looking forward to a speedy recovery for Georg...  \n",
       "1199  Great seeing @TheLeeGreenwood  and Kimberly at...  \n",
       "\n",
       "[1200 rows x 3 columns]"
      ]
     },
     "execution_count": 11,
     "metadata": {},
     "output_type": "execute_result"
    }
   ],
   "source": [
    "sampled_data"
   ]
  },
  {
   "cell_type": "markdown",
   "id": "cfcc7e75-4631-46e8-93a0-92f1eb385d70",
   "metadata": {},
   "source": [
    "### Prepare the Excel file"
   ]
  },
  {
   "cell_type": "code",
   "execution_count": 12,
   "id": "8b0c8cfa-dfa7-4ebc-b1a2-8ba1fc3c82b0",
   "metadata": {},
   "outputs": [],
   "source": [
    "sampled_data = sampled_data[['text']].rename(columns={'text': 'Text'})"
   ]
  },
  {
   "cell_type": "code",
   "execution_count": 13,
   "id": "283e8bc4-25bc-41eb-a8b2-30a3f6655c34",
   "metadata": {},
   "outputs": [],
   "source": [
    "sampled_data.insert(0, 'ID', range(1, len(sampled_data) + 1))"
   ]
  },
  {
   "cell_type": "code",
   "execution_count": 14,
   "id": "22b14a9e-5943-418c-9e21-88abc4376180",
   "metadata": {},
   "outputs": [],
   "source": [
    "sampled_data.to_excel('sampled_1200_posts.xlsx', index=False)"
   ]
  }
 ],
 "metadata": {
  "kernelspec": {
   "display_name": "Python 3 (ipykernel)",
   "language": "python",
   "name": "python3"
  },
  "language_info": {
   "codemirror_mode": {
    "name": "ipython",
    "version": 3
   },
   "file_extension": ".py",
   "mimetype": "text/x-python",
   "name": "python",
   "nbconvert_exporter": "python",
   "pygments_lexer": "ipython3",
   "version": "3.12.5"
  }
 },
 "nbformat": 4,
 "nbformat_minor": 5
}
