{
 "cells": [
  {
   "cell_type": "code",
   "execution_count": 1,
   "id": "044d75a8-2eb6-4922-acaa-40e850108ca2",
   "metadata": {},
   "outputs": [],
   "source": [
    "import pandas as pd\n",
    "import krippendorff"
   ]
  },
  {
   "cell_type": "code",
   "execution_count": 2,
   "id": "1aaa48d9-ea0e-4229-9ad2-63ce2e49f07e",
   "metadata": {},
   "outputs": [],
   "source": [
    "results = pd.read_csv(\"Reliability Step 2_April 24, 2025_10.00.csv\")"
   ]
  },
  {
   "cell_type": "code",
   "execution_count": 3,
   "id": "c0fe9f16-e040-4ac6-8d2e-7ba2b63ea0a0",
   "metadata": {},
   "outputs": [
    {
     "data": {
      "text/plain": [
       "Index(['StartDate', 'EndDate', 'Status', 'IPAddress', 'Progress',\n",
       "       'Duration (in seconds)', 'Finished', 'RecordedDate', 'ResponseId',\n",
       "       'RecipientLastName', 'RecipientFirstName', 'RecipientEmail',\n",
       "       'ExternalReference', 'LocationLatitude', 'LocationLongitude',\n",
       "       'DistributionChannel', 'UserLanguage', 'Coder_ID', 'Post_ID',\n",
       "       'Attribution_Presence', 'Attribution_Number', 'AttributionType_1',\n",
       "       'SenderAccountMatch_1', 'Evaluation_1', 'PresenceIndividual_1',\n",
       "       'SpecificIndividual_1', 'PresenceCollective_1', 'SpecificCollective_1',\n",
       "       'PresenceSystems_1', 'SpecificSystem_1', 'PresenceNetwork_1',\n",
       "       'SpecificNetworks_1', 'Economy_1', 'SocialPolicies_1',\n",
       "       'PoliticsHumanRight_1', 'ExternalRelations_1', 'PastTense_1',\n",
       "       'PresentTense_1', 'FutureTense_1'],\n",
       "      dtype='object')"
      ]
     },
     "execution_count": 3,
     "metadata": {},
     "output_type": "execute_result"
    }
   ],
   "source": [
    "results.columns"
   ]
  },
  {
   "cell_type": "code",
   "execution_count": 4,
   "id": "77a8611d-58b2-483f-8bc0-ea5168bdcd99",
   "metadata": {},
   "outputs": [
    {
     "data": {
      "text/plain": [
       "array(['Coder ID', '{\"ImportId\":\"QID1\"}', 'Luke', 'Francesco', 'Ada',\n",
       "       'Mare'], dtype=object)"
      ]
     },
     "execution_count": 4,
     "metadata": {},
     "output_type": "execute_result"
    }
   ],
   "source": [
    "results['Coder_ID'].unique()"
   ]
  },
  {
   "cell_type": "code",
   "execution_count": 5,
   "id": "7021f6c6-80f5-49ef-9240-71f453069db2",
   "metadata": {},
   "outputs": [],
   "source": [
    "results = results.loc[:, 'Coder_ID':'FutureTense_1']"
   ]
  },
  {
   "cell_type": "code",
   "execution_count": 6,
   "id": "22ec9203-3456-44a0-8d4b-8c5c929a6d4a",
   "metadata": {},
   "outputs": [],
   "source": [
    "results = results.iloc[2:]"
   ]
  },
  {
   "cell_type": "code",
   "execution_count": 7,
   "id": "fe65942d-6d70-4470-8045-0fd067f7968d",
   "metadata": {},
   "outputs": [
    {
     "data": {
      "text/html": [
       "<div>\n",
       "<style scoped>\n",
       "    .dataframe tbody tr th:only-of-type {\n",
       "        vertical-align: middle;\n",
       "    }\n",
       "\n",
       "    .dataframe tbody tr th {\n",
       "        vertical-align: top;\n",
       "    }\n",
       "\n",
       "    .dataframe thead th {\n",
       "        text-align: right;\n",
       "    }\n",
       "</style>\n",
       "<table border=\"1\" class=\"dataframe\">\n",
       "  <thead>\n",
       "    <tr style=\"text-align: right;\">\n",
       "      <th></th>\n",
       "      <th>Coder_ID</th>\n",
       "      <th>Post_ID</th>\n",
       "      <th>Attribution_Presence</th>\n",
       "      <th>Attribution_Number</th>\n",
       "      <th>AttributionType_1</th>\n",
       "      <th>SenderAccountMatch_1</th>\n",
       "      <th>Evaluation_1</th>\n",
       "      <th>PresenceIndividual_1</th>\n",
       "      <th>SpecificIndividual_1</th>\n",
       "      <th>PresenceCollective_1</th>\n",
       "      <th>...</th>\n",
       "      <th>SpecificSystem_1</th>\n",
       "      <th>PresenceNetwork_1</th>\n",
       "      <th>SpecificNetworks_1</th>\n",
       "      <th>Economy_1</th>\n",
       "      <th>SocialPolicies_1</th>\n",
       "      <th>PoliticsHumanRight_1</th>\n",
       "      <th>ExternalRelations_1</th>\n",
       "      <th>PastTense_1</th>\n",
       "      <th>PresentTense_1</th>\n",
       "      <th>FutureTense_1</th>\n",
       "    </tr>\n",
       "  </thead>\n",
       "  <tbody>\n",
       "    <tr>\n",
       "      <th>2</th>\n",
       "      <td>Luke</td>\n",
       "      <td>1</td>\n",
       "      <td>Yes</td>\n",
       "      <td>First</td>\n",
       "      <td>Affirmed causal responsibility</td>\n",
       "      <td>No</td>\n",
       "      <td>Negatively</td>\n",
       "      <td>No</td>\n",
       "      <td>NaN</td>\n",
       "      <td>Yes</td>\n",
       "      <td>...</td>\n",
       "      <td>NaN</td>\n",
       "      <td>NaN</td>\n",
       "      <td>NaN</td>\n",
       "      <td>No</td>\n",
       "      <td>No</td>\n",
       "      <td>Yes</td>\n",
       "      <td>NaN</td>\n",
       "      <td>No</td>\n",
       "      <td>Yes</td>\n",
       "      <td>NaN</td>\n",
       "    </tr>\n",
       "    <tr>\n",
       "      <th>3</th>\n",
       "      <td>Luke</td>\n",
       "      <td>2</td>\n",
       "      <td>Yes</td>\n",
       "      <td>First</td>\n",
       "      <td>Affirmed causal responsibility</td>\n",
       "      <td>No</td>\n",
       "      <td>Negatively</td>\n",
       "      <td>No</td>\n",
       "      <td>NaN</td>\n",
       "      <td>Yes</td>\n",
       "      <td>...</td>\n",
       "      <td>NaN</td>\n",
       "      <td>NaN</td>\n",
       "      <td>NaN</td>\n",
       "      <td>No</td>\n",
       "      <td>No</td>\n",
       "      <td>Yes</td>\n",
       "      <td>NaN</td>\n",
       "      <td>No</td>\n",
       "      <td>Yes</td>\n",
       "      <td>NaN</td>\n",
       "    </tr>\n",
       "    <tr>\n",
       "      <th>4</th>\n",
       "      <td>Luke</td>\n",
       "      <td>3</td>\n",
       "      <td>Yes</td>\n",
       "      <td>First</td>\n",
       "      <td>Affirmed causal responsibility</td>\n",
       "      <td>Yes</td>\n",
       "      <td>Negatively</td>\n",
       "      <td>No</td>\n",
       "      <td>NaN</td>\n",
       "      <td>Yes</td>\n",
       "      <td>...</td>\n",
       "      <td>NaN</td>\n",
       "      <td>NaN</td>\n",
       "      <td>NaN</td>\n",
       "      <td>No</td>\n",
       "      <td>No</td>\n",
       "      <td>Yes</td>\n",
       "      <td>NaN</td>\n",
       "      <td>Yes</td>\n",
       "      <td>NaN</td>\n",
       "      <td>NaN</td>\n",
       "    </tr>\n",
       "    <tr>\n",
       "      <th>5</th>\n",
       "      <td>Francesco</td>\n",
       "      <td>1</td>\n",
       "      <td>Yes</td>\n",
       "      <td>First</td>\n",
       "      <td>Affirmed causal responsibility</td>\n",
       "      <td>Yes</td>\n",
       "      <td>Neutrally</td>\n",
       "      <td>NaN</td>\n",
       "      <td>NaN</td>\n",
       "      <td>NaN</td>\n",
       "      <td>...</td>\n",
       "      <td>NaN</td>\n",
       "      <td>NaN</td>\n",
       "      <td>NaN</td>\n",
       "      <td>NaN</td>\n",
       "      <td>NaN</td>\n",
       "      <td>NaN</td>\n",
       "      <td>NaN</td>\n",
       "      <td>NaN</td>\n",
       "      <td>NaN</td>\n",
       "      <td>NaN</td>\n",
       "    </tr>\n",
       "    <tr>\n",
       "      <th>6</th>\n",
       "      <td>Luke</td>\n",
       "      <td>4</td>\n",
       "      <td>Yes</td>\n",
       "      <td>First</td>\n",
       "      <td>Affirmed causal responsibility</td>\n",
       "      <td>Yes</td>\n",
       "      <td>Positively</td>\n",
       "      <td>Yes</td>\n",
       "      <td>Other Individuals</td>\n",
       "      <td>NaN</td>\n",
       "      <td>...</td>\n",
       "      <td>NaN</td>\n",
       "      <td>NaN</td>\n",
       "      <td>NaN</td>\n",
       "      <td>No</td>\n",
       "      <td>No</td>\n",
       "      <td>Yes</td>\n",
       "      <td>NaN</td>\n",
       "      <td>No</td>\n",
       "      <td>Yes</td>\n",
       "      <td>NaN</td>\n",
       "    </tr>\n",
       "  </tbody>\n",
       "</table>\n",
       "<p>5 rows × 22 columns</p>\n",
       "</div>"
      ],
      "text/plain": [
       "    Coder_ID Post_ID Attribution_Presence Attribution_Number  \\\n",
       "2       Luke       1                  Yes              First   \n",
       "3       Luke       2                  Yes              First   \n",
       "4       Luke       3                  Yes              First   \n",
       "5  Francesco       1                  Yes              First   \n",
       "6       Luke       4                  Yes              First   \n",
       "\n",
       "                AttributionType_1 SenderAccountMatch_1 Evaluation_1  \\\n",
       "2  Affirmed causal responsibility                   No   Negatively   \n",
       "3  Affirmed causal responsibility                   No   Negatively   \n",
       "4  Affirmed causal responsibility                  Yes   Negatively   \n",
       "5  Affirmed causal responsibility                  Yes    Neutrally   \n",
       "6  Affirmed causal responsibility                  Yes   Positively   \n",
       "\n",
       "  PresenceIndividual_1 SpecificIndividual_1 PresenceCollective_1  ...  \\\n",
       "2                   No                  NaN                  Yes  ...   \n",
       "3                   No                  NaN                  Yes  ...   \n",
       "4                   No                  NaN                  Yes  ...   \n",
       "5                  NaN                  NaN                  NaN  ...   \n",
       "6                  Yes    Other Individuals                  NaN  ...   \n",
       "\n",
       "  SpecificSystem_1 PresenceNetwork_1 SpecificNetworks_1 Economy_1  \\\n",
       "2              NaN               NaN                NaN        No   \n",
       "3              NaN               NaN                NaN        No   \n",
       "4              NaN               NaN                NaN        No   \n",
       "5              NaN               NaN                NaN       NaN   \n",
       "6              NaN               NaN                NaN        No   \n",
       "\n",
       "  SocialPolicies_1 PoliticsHumanRight_1 ExternalRelations_1 PastTense_1  \\\n",
       "2               No                  Yes                 NaN          No   \n",
       "3               No                  Yes                 NaN          No   \n",
       "4               No                  Yes                 NaN         Yes   \n",
       "5              NaN                  NaN                 NaN         NaN   \n",
       "6               No                  Yes                 NaN          No   \n",
       "\n",
       "  PresentTense_1 FutureTense_1  \n",
       "2            Yes           NaN  \n",
       "3            Yes           NaN  \n",
       "4            NaN           NaN  \n",
       "5            NaN           NaN  \n",
       "6            Yes           NaN  \n",
       "\n",
       "[5 rows x 22 columns]"
      ]
     },
     "execution_count": 7,
     "metadata": {},
     "output_type": "execute_result"
    }
   ],
   "source": [
    "results.head()"
   ]
  },
  {
   "cell_type": "code",
   "execution_count": 8,
   "id": "84a51f98-d5df-4e3b-b158-2b53416298a7",
   "metadata": {},
   "outputs": [
    {
     "data": {
      "text/plain": [
       "Index(['Coder_ID', 'Post_ID', 'Attribution_Presence', 'Attribution_Number',\n",
       "       'AttributionType_1', 'SenderAccountMatch_1', 'Evaluation_1',\n",
       "       'PresenceIndividual_1', 'SpecificIndividual_1', 'PresenceCollective_1',\n",
       "       'SpecificCollective_1', 'PresenceSystems_1', 'SpecificSystem_1',\n",
       "       'PresenceNetwork_1', 'SpecificNetworks_1', 'Economy_1',\n",
       "       'SocialPolicies_1', 'PoliticsHumanRight_1', 'ExternalRelations_1',\n",
       "       'PastTense_1', 'PresentTense_1', 'FutureTense_1'],\n",
       "      dtype='object')"
      ]
     },
     "execution_count": 8,
     "metadata": {},
     "output_type": "execute_result"
    }
   ],
   "source": [
    "results.columns"
   ]
  },
  {
   "cell_type": "code",
   "execution_count": 9,
   "id": "347db0c5-f30d-4085-bc92-e57df7ea64bb",
   "metadata": {},
   "outputs": [],
   "source": [
    "results_filtered = results[results['Coder_ID'] != 'Mare']"
   ]
  },
  {
   "cell_type": "code",
   "execution_count": 10,
   "id": "5ac1944f-b9b6-49e2-8cc1-554621e8dfc3",
   "metadata": {},
   "outputs": [
    {
     "name": "stderr",
     "output_type": "stream",
     "text": [
      "/var/folders/kw/83vtrb5s4k5g0zx9zp814ky00000gn/T/ipykernel_46366/2268305749.py:3: SettingWithCopyWarning: \n",
      "A value is trying to be set on a copy of a slice from a DataFrame.\n",
      "Try using .loc[row_indexer,col_indexer] = value instead\n",
      "\n",
      "See the caveats in the documentation: https://pandas.pydata.org/pandas-docs/stable/user_guide/indexing.html#returning-a-view-versus-a-copy\n",
      "  results_filtered['PostAttr_ID'] = results_filtered['Post_ID'].astype(str) + '_' + results_filtered['Attribution_Number']\n"
     ]
    }
   ],
   "source": [
    "#Create a Unique Attribution Identifier\n",
    "## This ensures annotations on the same post + attribution number\n",
    "results_filtered['PostAttr_ID'] = results_filtered['Post_ID'].astype(str) + '_' + results_filtered['Attribution_Number']"
   ]
  },
  {
   "cell_type": "code",
   "execution_count": 11,
   "id": "abcdbda0-c079-4e0d-b8fd-06cce1337860",
   "metadata": {},
   "outputs": [],
   "source": [
    "pivot_df = results_filtered.pivot_table(\n",
    "    index='PostAttr_ID',\n",
    "    columns='Coder_ID',\n",
    "    values='SpecificCollective_1',  # or any other column you want to compare\n",
    "    aggfunc='first'  # just in case there's only one per coder\n",
    ").dropna()  # drop rows where either coder didn’t code"
   ]
  },
  {
   "cell_type": "code",
   "execution_count": 12,
   "id": "54c27d3d-dc62-4e99-85f7-7d998ae2eea9",
   "metadata": {},
   "outputs": [
    {
     "data": {
      "text/html": [
       "<div>\n",
       "<style scoped>\n",
       "    .dataframe tbody tr th:only-of-type {\n",
       "        vertical-align: middle;\n",
       "    }\n",
       "\n",
       "    .dataframe tbody tr th {\n",
       "        vertical-align: top;\n",
       "    }\n",
       "\n",
       "    .dataframe thead th {\n",
       "        text-align: right;\n",
       "    }\n",
       "</style>\n",
       "<table border=\"1\" class=\"dataframe\">\n",
       "  <thead>\n",
       "    <tr style=\"text-align: right;\">\n",
       "      <th>Coder_ID</th>\n",
       "      <th>Ada</th>\n",
       "      <th>Francesco</th>\n",
       "      <th>Luke</th>\n",
       "    </tr>\n",
       "    <tr>\n",
       "      <th>PostAttr_ID</th>\n",
       "      <th></th>\n",
       "      <th></th>\n",
       "      <th></th>\n",
       "    </tr>\n",
       "  </thead>\n",
       "  <tbody>\n",
       "    <tr>\n",
       "      <th>10_First</th>\n",
       "      <td>Progressive: Democrats/Liberals/Left-wing ideo...</td>\n",
       "      <td>Progressive: Democrats/Liberals/Left-wing ideo...</td>\n",
       "      <td>Progressive: Democrats/Liberals/Left-wing ideo...</td>\n",
       "    </tr>\n",
       "    <tr>\n",
       "      <th>11_First</th>\n",
       "      <td>Progressive: Democrats/Liberals/Left-wing ideo...</td>\n",
       "      <td>Progressive: Democrats/Liberals/Left-wing ideo...</td>\n",
       "      <td>Progressive: Democrats/Liberals/Left-wing ideo...</td>\n",
       "    </tr>\n",
       "    <tr>\n",
       "      <th>12_Second</th>\n",
       "      <td>Progressive: Democrats/Liberals/Left-wing ideo...</td>\n",
       "      <td>Progressive: Democrats/Liberals/Left-wing ideo...</td>\n",
       "      <td>Progressive: Democrats/Liberals/Left-wing ideo...</td>\n",
       "    </tr>\n",
       "    <tr>\n",
       "      <th>17_First</th>\n",
       "      <td>Progressive: Democrats/Liberals/Left-wing ideo...</td>\n",
       "      <td>Progressive: Democrats/Liberals/Left-wing ideo...</td>\n",
       "      <td>Progressive: Democrats/Liberals/Left-wing ideo...</td>\n",
       "    </tr>\n",
       "    <tr>\n",
       "      <th>19_First</th>\n",
       "      <td>Progressive: Democrats/Liberals/Left-wing ideo...</td>\n",
       "      <td>Progressive: Democrats/Liberals/Left-wing ideo...</td>\n",
       "      <td>Progressive: Democrats/Liberals/Left-wing ideo...</td>\n",
       "    </tr>\n",
       "    <tr>\n",
       "      <th>24_First</th>\n",
       "      <td>Conservative: Republicans/Right-wing ideologists</td>\n",
       "      <td>The Trump-Administration</td>\n",
       "      <td>Conservative: Republicans/Right-wing ideologists</td>\n",
       "    </tr>\n",
       "    <tr>\n",
       "      <th>24_Second</th>\n",
       "      <td>Conservative: Republicans/Right-wing ideologists</td>\n",
       "      <td>The Trump-Administration</td>\n",
       "      <td>The Trump-Administration</td>\n",
       "    </tr>\n",
       "    <tr>\n",
       "      <th>26_First</th>\n",
       "      <td>Other Countries/Country Unions</td>\n",
       "      <td>Other Collectives</td>\n",
       "      <td>Other Countries/Country Unions</td>\n",
       "    </tr>\n",
       "    <tr>\n",
       "      <th>27_First</th>\n",
       "      <td>USA</td>\n",
       "      <td>The Trump-Administration</td>\n",
       "      <td>The Trump-Administration</td>\n",
       "    </tr>\n",
       "    <tr>\n",
       "      <th>2_First</th>\n",
       "      <td>Other Collectives</td>\n",
       "      <td>Other Collectives</td>\n",
       "      <td>Other Political/Ideological Groups</td>\n",
       "    </tr>\n",
       "    <tr>\n",
       "      <th>31_First</th>\n",
       "      <td>EU</td>\n",
       "      <td>EU</td>\n",
       "      <td>EU</td>\n",
       "    </tr>\n",
       "    <tr>\n",
       "      <th>3_First</th>\n",
       "      <td>Other Non-Governing/Non-Political Organization...</td>\n",
       "      <td>Other Non-Governing/Non-Political Organization...</td>\n",
       "      <td>Other Non-Governing/Non-Political Organization...</td>\n",
       "    </tr>\n",
       "    <tr>\n",
       "      <th>5_First</th>\n",
       "      <td>Progressive: Democrats/Liberals/Left-wing ideo...</td>\n",
       "      <td>Progressive: Democrats/Liberals/Left-wing ideo...</td>\n",
       "      <td>Progressive: Democrats/Liberals/Left-wing ideo...</td>\n",
       "    </tr>\n",
       "    <tr>\n",
       "      <th>5_Second</th>\n",
       "      <td>Progressive: Democrats/Liberals/Left-wing ideo...</td>\n",
       "      <td>Progressive: Democrats/Liberals/Left-wing ideo...</td>\n",
       "      <td>Progressive: Democrats/Liberals/Left-wing ideo...</td>\n",
       "    </tr>\n",
       "    <tr>\n",
       "      <th>6_First</th>\n",
       "      <td>USA</td>\n",
       "      <td>USA</td>\n",
       "      <td>The Trump-Administration</td>\n",
       "    </tr>\n",
       "  </tbody>\n",
       "</table>\n",
       "</div>"
      ],
      "text/plain": [
       "Coder_ID                                                   Ada  \\\n",
       "PostAttr_ID                                                      \n",
       "10_First     Progressive: Democrats/Liberals/Left-wing ideo...   \n",
       "11_First     Progressive: Democrats/Liberals/Left-wing ideo...   \n",
       "12_Second    Progressive: Democrats/Liberals/Left-wing ideo...   \n",
       "17_First     Progressive: Democrats/Liberals/Left-wing ideo...   \n",
       "19_First     Progressive: Democrats/Liberals/Left-wing ideo...   \n",
       "24_First      Conservative: Republicans/Right-wing ideologists   \n",
       "24_Second     Conservative: Republicans/Right-wing ideologists   \n",
       "26_First                        Other Countries/Country Unions   \n",
       "27_First                                                   USA   \n",
       "2_First                                      Other Collectives   \n",
       "31_First                                                    EU   \n",
       "3_First      Other Non-Governing/Non-Political Organization...   \n",
       "5_First      Progressive: Democrats/Liberals/Left-wing ideo...   \n",
       "5_Second     Progressive: Democrats/Liberals/Left-wing ideo...   \n",
       "6_First                                                    USA   \n",
       "\n",
       "Coder_ID                                             Francesco  \\\n",
       "PostAttr_ID                                                      \n",
       "10_First     Progressive: Democrats/Liberals/Left-wing ideo...   \n",
       "11_First     Progressive: Democrats/Liberals/Left-wing ideo...   \n",
       "12_Second    Progressive: Democrats/Liberals/Left-wing ideo...   \n",
       "17_First     Progressive: Democrats/Liberals/Left-wing ideo...   \n",
       "19_First     Progressive: Democrats/Liberals/Left-wing ideo...   \n",
       "24_First                              The Trump-Administration   \n",
       "24_Second                             The Trump-Administration   \n",
       "26_First                                     Other Collectives   \n",
       "27_First                              The Trump-Administration   \n",
       "2_First                                      Other Collectives   \n",
       "31_First                                                    EU   \n",
       "3_First      Other Non-Governing/Non-Political Organization...   \n",
       "5_First      Progressive: Democrats/Liberals/Left-wing ideo...   \n",
       "5_Second     Progressive: Democrats/Liberals/Left-wing ideo...   \n",
       "6_First                                                    USA   \n",
       "\n",
       "Coder_ID                                                  Luke  \n",
       "PostAttr_ID                                                     \n",
       "10_First     Progressive: Democrats/Liberals/Left-wing ideo...  \n",
       "11_First     Progressive: Democrats/Liberals/Left-wing ideo...  \n",
       "12_Second    Progressive: Democrats/Liberals/Left-wing ideo...  \n",
       "17_First     Progressive: Democrats/Liberals/Left-wing ideo...  \n",
       "19_First     Progressive: Democrats/Liberals/Left-wing ideo...  \n",
       "24_First      Conservative: Republicans/Right-wing ideologists  \n",
       "24_Second                             The Trump-Administration  \n",
       "26_First                        Other Countries/Country Unions  \n",
       "27_First                              The Trump-Administration  \n",
       "2_First                     Other Political/Ideological Groups  \n",
       "31_First                                                    EU  \n",
       "3_First      Other Non-Governing/Non-Political Organization...  \n",
       "5_First      Progressive: Democrats/Liberals/Left-wing ideo...  \n",
       "5_Second     Progressive: Democrats/Liberals/Left-wing ideo...  \n",
       "6_First                               The Trump-Administration  "
      ]
     },
     "execution_count": 12,
     "metadata": {},
     "output_type": "execute_result"
    }
   ],
   "source": [
    "pivot_df"
   ]
  },
  {
   "cell_type": "code",
   "execution_count": 13,
   "id": "99f20d6c-1a17-4552-a795-ba432d0477db",
   "metadata": {},
   "outputs": [
    {
     "name": "stdout",
     "output_type": "stream",
     "text": [
      "Percent agreement: 73.33%\n"
     ]
    }
   ],
   "source": [
    "agreement_AdaLuke = (pivot_df['Ada'] == pivot_df['Luke']).mean()\n",
    "print(f'Percent agreement: {agreement_AdaLuke:.2%}')"
   ]
  },
  {
   "cell_type": "code",
   "execution_count": 14,
   "id": "220ee981-c78a-44a4-abb7-af7ee3c7e5a0",
   "metadata": {},
   "outputs": [
    {
     "name": "stdout",
     "output_type": "stream",
     "text": [
      "Percent agreement: 73.33%\n"
     ]
    }
   ],
   "source": [
    "agreement_AdaFrancesco = (pivot_df['Ada'] == pivot_df['Francesco']).mean()\n",
    "print(f'Percent agreement: {agreement_AdaFrancesco:.2%}')"
   ]
  },
  {
   "cell_type": "code",
   "execution_count": 15,
   "id": "fc48600c-fa2a-4345-bbc6-d3831b3d296d",
   "metadata": {},
   "outputs": [
    {
     "name": "stdout",
     "output_type": "stream",
     "text": [
      "Percent agreement: 73.33%\n"
     ]
    }
   ],
   "source": [
    "agreement_FrancescoLuke = (pivot_df['Francesco'] == pivot_df['Luke']).mean()\n",
    "print(f'Percent agreement: {agreement_FrancescoLuke:.2%}')"
   ]
  },
  {
   "cell_type": "code",
   "execution_count": 16,
   "id": "ee1d0ffd-cec6-49bd-9f7c-085f48097f56",
   "metadata": {},
   "outputs": [
    {
     "name": "stdout",
     "output_type": "stream",
     "text": [
      "Krippendorff's alpha: 0.648\n"
     ]
    }
   ],
   "source": [
    "# Each inner list is a unit (i.e., one PostAttr_ID)\n",
    "data = pivot_df.transpose().values.tolist()\n",
    "\n",
    "# Calculate K-alpha (nominal scale)\n",
    "alpha = krippendorff.alpha(reliability_data=data, level_of_measurement='nominal')\n",
    "\n",
    "print(f\"Krippendorff's alpha: {alpha:.3f}\")"
   ]
  },
  {
   "cell_type": "code",
   "execution_count": 17,
   "id": "f52c74d3-5f10-421a-85a2-94ead15ccddb",
   "metadata": {},
   "outputs": [
    {
     "name": "stdout",
     "output_type": "stream",
     "text": [
      "Coder_ID                                                  Ada  \\\n",
      "PostAttr_ID                                                     \n",
      "24_First     Conservative: Republicans/Right-wing ideologists   \n",
      "24_Second    Conservative: Republicans/Right-wing ideologists   \n",
      "26_First                       Other Countries/Country Unions   \n",
      "27_First                                                  USA   \n",
      "2_First                                     Other Collectives   \n",
      "6_First                                                   USA   \n",
      "\n",
      "Coder_ID                    Francesco  \\\n",
      "PostAttr_ID                             \n",
      "24_First     The Trump-Administration   \n",
      "24_Second    The Trump-Administration   \n",
      "26_First            Other Collectives   \n",
      "27_First     The Trump-Administration   \n",
      "2_First             Other Collectives   \n",
      "6_First                           USA   \n",
      "\n",
      "Coder_ID                                                 Luke  \n",
      "PostAttr_ID                                                    \n",
      "24_First     Conservative: Republicans/Right-wing ideologists  \n",
      "24_Second                            The Trump-Administration  \n",
      "26_First                       Other Countries/Country Unions  \n",
      "27_First                             The Trump-Administration  \n",
      "2_First                    Other Political/Ideological Groups  \n",
      "6_First                              The Trump-Administration  \n"
     ]
    }
   ],
   "source": [
    "def get_disagreement_rows(df):\n",
    "    return df[df.nunique(axis=1) > 1]\n",
    "\n",
    "disagreement_rows = get_disagreement_rows(pivot_df)\n",
    "print(disagreement_rows)"
   ]
  },
  {
   "cell_type": "code",
   "execution_count": 18,
   "id": "6c6cda45-6146-43f2-99f1-2c2a93b39cdb",
   "metadata": {},
   "outputs": [
    {
     "name": "stdout",
     "output_type": "stream",
     "text": [
      "Overall Agreement: 60.00%\n",
      "Pairwise Cohen's Kappa:\n",
      "Ada vs Francesco: 0.647\n",
      "Ada vs Luke: 0.649\n",
      "Francesco vs Luke: 0.636\n"
     ]
    }
   ],
   "source": [
    "from sklearn.metrics import cohen_kappa_score\n",
    "import itertools\n",
    "\n",
    "# 1. Overall agreement\n",
    "def overall_agreement(df):\n",
    "    agreement = df.apply(lambda row: len(set(row)) == 1, axis=1)\n",
    "    return agreement.mean()\n",
    "\n",
    "# 2. Pairwise Cohen's Kappa\n",
    "def pairwise_kappa(df):\n",
    "    coders = df.columns\n",
    "    results = {}\n",
    "    for c1, c2 in itertools.combinations(coders, 2):\n",
    "        kappa = cohen_kappa_score(df[c1], df[c2])\n",
    "        results[f\"{c1} vs {c2}\"] = kappa\n",
    "    return results\n",
    "\n",
    "# Usage\n",
    "overall_agree = overall_agreement(pivot_df)\n",
    "pairwise_kappas = pairwise_kappa(pivot_df)\n",
    "\n",
    "print(f\"Overall Agreement: {overall_agree:.2%}\")\n",
    "print(\"Pairwise Cohen's Kappa:\")\n",
    "for pair, score in pairwise_kappas.items():\n",
    "    print(f\"{pair}: {score:.3f}\")"
   ]
  },
  {
   "cell_type": "code",
   "execution_count": null,
   "id": "78120822-836b-422b-bece-28fcd698142d",
   "metadata": {},
   "outputs": [],
   "source": []
  },
  {
   "cell_type": "code",
   "execution_count": null,
   "id": "8b29eb08-737b-4534-b572-eeb5c3cd952e",
   "metadata": {},
   "outputs": [],
   "source": []
  },
  {
   "cell_type": "code",
   "execution_count": null,
   "id": "c5e31761-e205-4bcc-a357-a75f499debbf",
   "metadata": {},
   "outputs": [],
   "source": []
  },
  {
   "cell_type": "code",
   "execution_count": null,
   "id": "a9678f07-860b-4de5-a67c-fb73b09fc070",
   "metadata": {},
   "outputs": [],
   "source": []
  },
  {
   "cell_type": "code",
   "execution_count": null,
   "id": "f74281b7-1af8-4b7a-82b8-948b57feaefa",
   "metadata": {},
   "outputs": [],
   "source": []
  },
  {
   "cell_type": "code",
   "execution_count": null,
   "id": "3985846a-968a-4a64-8762-137cea15db65",
   "metadata": {},
   "outputs": [],
   "source": []
  },
  {
   "cell_type": "code",
   "execution_count": null,
   "id": "18e05759-df3b-4be7-b84d-74256a07fcc4",
   "metadata": {},
   "outputs": [],
   "source": []
  }
 ],
 "metadata": {
  "kernelspec": {
   "display_name": "Python 3 (ipykernel)",
   "language": "python",
   "name": "python3"
  },
  "language_info": {
   "codemirror_mode": {
    "name": "ipython",
    "version": 3
   },
   "file_extension": ".py",
   "mimetype": "text/x-python",
   "name": "python",
   "nbconvert_exporter": "python",
   "pygments_lexer": "ipython3",
   "version": "3.12.5"
  }
 },
 "nbformat": 4,
 "nbformat_minor": 5
}
