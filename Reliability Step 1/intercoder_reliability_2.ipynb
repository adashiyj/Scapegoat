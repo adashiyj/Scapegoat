{
 "cells": [
  {
   "cell_type": "code",
   "execution_count": 1,
   "id": "71952938-9f63-4bea-84bd-7d04f8102674",
   "metadata": {},
   "outputs": [
    {
     "name": "stdout",
     "output_type": "stream",
     "text": [
      "Requirement already satisfied: simpledorff in /Users/ada/Library/jupyterlab-desktop/jlab_server/lib/python3.12/site-packages (0.0.2)\n"
     ]
    }
   ],
   "source": [
    "!pip install simpledorff"
   ]
  },
  {
   "cell_type": "code",
   "execution_count": 2,
   "id": "044d75a8-2eb6-4922-acaa-40e850108ca2",
   "metadata": {},
   "outputs": [],
   "source": [
    "import pandas as pd\n",
    "import simpledorff"
   ]
  },
  {
   "cell_type": "code",
   "execution_count": 3,
   "id": "1aaa48d9-ea0e-4229-9ad2-63ce2e49f07e",
   "metadata": {},
   "outputs": [],
   "source": [
    "results = pd.read_csv(\"Reliability Step 1_April 23, 2025_10.27.csv\")"
   ]
  },
  {
   "cell_type": "code",
   "execution_count": 4,
   "id": "c0fe9f16-e040-4ac6-8d2e-7ba2b63ea0a0",
   "metadata": {},
   "outputs": [
    {
     "data": {
      "text/plain": [
       "Index(['StartDate', 'EndDate', 'Status', 'IPAddress', 'Progress',\n",
       "       'Duration (in seconds)', 'Finished', 'RecordedDate', 'ResponseId',\n",
       "       'RecipientLastName', 'RecipientFirstName', 'RecipientEmail',\n",
       "       'ExternalReference', 'LocationLatitude', 'LocationLongitude',\n",
       "       'DistributionChannel', 'UserLanguage', 'Coder ID', 'Post ID',\n",
       "       'Attribution Presence', 'Number Attributions', 'Attribution1',\n",
       "       'Attribution2', 'Attribution3', 'Attribution4', 'Attribution5',\n",
       "       'Attribution6', 'Attribution7', 'AttributionOther'],\n",
       "      dtype='object')"
      ]
     },
     "execution_count": 4,
     "metadata": {},
     "output_type": "execute_result"
    }
   ],
   "source": [
    "results.columns"
   ]
  },
  {
   "cell_type": "code",
   "execution_count": 5,
   "id": "77a8611d-58b2-483f-8bc0-ea5168bdcd99",
   "metadata": {},
   "outputs": [
    {
     "data": {
      "text/plain": [
       "array(['Coder ID', '{\"ImportId\":\"QID17\"}', 'Francesco', 'Mare', 'Luke',\n",
       "       'Ada'], dtype=object)"
      ]
     },
     "execution_count": 5,
     "metadata": {},
     "output_type": "execute_result"
    }
   ],
   "source": [
    "results['Coder ID'].unique()"
   ]
  },
  {
   "cell_type": "code",
   "execution_count": 6,
   "id": "7021f6c6-80f5-49ef-9240-71f453069db2",
   "metadata": {},
   "outputs": [],
   "source": [
    "results = results.loc[:, 'Coder ID':'AttributionOther']"
   ]
  },
  {
   "cell_type": "code",
   "execution_count": 7,
   "id": "22ec9203-3456-44a0-8d4b-8c5c929a6d4a",
   "metadata": {},
   "outputs": [],
   "source": [
    "results = results.iloc[2:]"
   ]
  },
  {
   "cell_type": "code",
   "execution_count": 8,
   "id": "fe65942d-6d70-4470-8045-0fd067f7968d",
   "metadata": {},
   "outputs": [
    {
     "data": {
      "text/html": [
       "<div>\n",
       "<style scoped>\n",
       "    .dataframe tbody tr th:only-of-type {\n",
       "        vertical-align: middle;\n",
       "    }\n",
       "\n",
       "    .dataframe tbody tr th {\n",
       "        vertical-align: top;\n",
       "    }\n",
       "\n",
       "    .dataframe thead th {\n",
       "        text-align: right;\n",
       "    }\n",
       "</style>\n",
       "<table border=\"1\" class=\"dataframe\">\n",
       "  <thead>\n",
       "    <tr style=\"text-align: right;\">\n",
       "      <th></th>\n",
       "      <th>Coder ID</th>\n",
       "      <th>Post ID</th>\n",
       "      <th>Attribution Presence</th>\n",
       "      <th>Number Attributions</th>\n",
       "      <th>Attribution1</th>\n",
       "      <th>Attribution2</th>\n",
       "      <th>Attribution3</th>\n",
       "      <th>Attribution4</th>\n",
       "      <th>Attribution5</th>\n",
       "      <th>Attribution6</th>\n",
       "      <th>Attribution7</th>\n",
       "      <th>AttributionOther</th>\n",
       "    </tr>\n",
       "  </thead>\n",
       "  <tbody>\n",
       "    <tr>\n",
       "      <th>2</th>\n",
       "      <td>Francesco</td>\n",
       "      <td>1</td>\n",
       "      <td>No</td>\n",
       "      <td>NaN</td>\n",
       "      <td>NaN</td>\n",
       "      <td>NaN</td>\n",
       "      <td>NaN</td>\n",
       "      <td>NaN</td>\n",
       "      <td>NaN</td>\n",
       "      <td>NaN</td>\n",
       "      <td>NaN</td>\n",
       "      <td>NaN</td>\n",
       "    </tr>\n",
       "    <tr>\n",
       "      <th>3</th>\n",
       "      <td>Francesco</td>\n",
       "      <td>2</td>\n",
       "      <td>No</td>\n",
       "      <td>NaN</td>\n",
       "      <td>NaN</td>\n",
       "      <td>NaN</td>\n",
       "      <td>NaN</td>\n",
       "      <td>NaN</td>\n",
       "      <td>NaN</td>\n",
       "      <td>NaN</td>\n",
       "      <td>NaN</td>\n",
       "      <td>NaN</td>\n",
       "    </tr>\n",
       "    <tr>\n",
       "      <th>4</th>\n",
       "      <td>Francesco</td>\n",
       "      <td>3</td>\n",
       "      <td>Yes</td>\n",
       "      <td>1</td>\n",
       "      <td>...Donald Trump delivered the American Dream. ...</td>\n",
       "      <td>NaN</td>\n",
       "      <td>NaN</td>\n",
       "      <td>NaN</td>\n",
       "      <td>NaN</td>\n",
       "      <td>NaN</td>\n",
       "      <td>NaN</td>\n",
       "      <td>NaN</td>\n",
       "    </tr>\n",
       "    <tr>\n",
       "      <th>5</th>\n",
       "      <td>Francesco</td>\n",
       "      <td>4</td>\n",
       "      <td>No</td>\n",
       "      <td>NaN</td>\n",
       "      <td>NaN</td>\n",
       "      <td>NaN</td>\n",
       "      <td>NaN</td>\n",
       "      <td>NaN</td>\n",
       "      <td>NaN</td>\n",
       "      <td>NaN</td>\n",
       "      <td>NaN</td>\n",
       "      <td>NaN</td>\n",
       "    </tr>\n",
       "    <tr>\n",
       "      <th>6</th>\n",
       "      <td>Francesco</td>\n",
       "      <td>5</td>\n",
       "      <td>No</td>\n",
       "      <td>NaN</td>\n",
       "      <td>NaN</td>\n",
       "      <td>NaN</td>\n",
       "      <td>NaN</td>\n",
       "      <td>NaN</td>\n",
       "      <td>NaN</td>\n",
       "      <td>NaN</td>\n",
       "      <td>NaN</td>\n",
       "      <td>NaN</td>\n",
       "    </tr>\n",
       "  </tbody>\n",
       "</table>\n",
       "</div>"
      ],
      "text/plain": [
       "    Coder ID Post ID Attribution Presence Number Attributions  \\\n",
       "2  Francesco       1                   No                 NaN   \n",
       "3  Francesco       2                   No                 NaN   \n",
       "4  Francesco       3                  Yes                   1   \n",
       "5  Francesco       4                   No                 NaN   \n",
       "6  Francesco       5                   No                 NaN   \n",
       "\n",
       "                                        Attribution1 Attribution2  \\\n",
       "2                                                NaN          NaN   \n",
       "3                                                NaN          NaN   \n",
       "4  ...Donald Trump delivered the American Dream. ...          NaN   \n",
       "5                                                NaN          NaN   \n",
       "6                                                NaN          NaN   \n",
       "\n",
       "  Attribution3 Attribution4 Attribution5 Attribution6 Attribution7  \\\n",
       "2          NaN          NaN          NaN          NaN          NaN   \n",
       "3          NaN          NaN          NaN          NaN          NaN   \n",
       "4          NaN          NaN          NaN          NaN          NaN   \n",
       "5          NaN          NaN          NaN          NaN          NaN   \n",
       "6          NaN          NaN          NaN          NaN          NaN   \n",
       "\n",
       "  AttributionOther  \n",
       "2              NaN  \n",
       "3              NaN  \n",
       "4              NaN  \n",
       "5              NaN  \n",
       "6              NaN  "
      ]
     },
     "execution_count": 8,
     "metadata": {},
     "output_type": "execute_result"
    }
   ],
   "source": [
    "results.head()"
   ]
  },
  {
   "cell_type": "code",
   "execution_count": 9,
   "id": "110c9bdf-dd13-45d4-b3a0-03650c54a7e6",
   "metadata": {},
   "outputs": [
    {
     "data": {
      "text/plain": [
       "np.float64(0.4801269398970548)"
      ]
     },
     "execution_count": 9,
     "metadata": {},
     "output_type": "execute_result"
    }
   ],
   "source": [
    "simpledorff.calculate_krippendorffs_alpha_for_df(results,experiment_col='Post ID',\n",
    "                                                 annotator_col='Coder ID',\n",
    "                                                 class_col='Attribution Presence')"
   ]
  },
  {
   "cell_type": "code",
   "execution_count": 10,
   "id": "bf8ee11b-9300-41bb-8a15-8ed5a7d3d8a1",
   "metadata": {},
   "outputs": [],
   "source": [
    "results_Q1 = results.pivot(index='Post ID', columns='Coder ID', values='Attribution Presence')"
   ]
  },
  {
   "cell_type": "code",
   "execution_count": 11,
   "id": "8cf30202-2034-4217-ae08-87e69e677bc6",
   "metadata": {},
   "outputs": [
    {
     "data": {
      "text/html": [
       "<div>\n",
       "<style scoped>\n",
       "    .dataframe tbody tr th:only-of-type {\n",
       "        vertical-align: middle;\n",
       "    }\n",
       "\n",
       "    .dataframe tbody tr th {\n",
       "        vertical-align: top;\n",
       "    }\n",
       "\n",
       "    .dataframe thead th {\n",
       "        text-align: right;\n",
       "    }\n",
       "</style>\n",
       "<table border=\"1\" class=\"dataframe\">\n",
       "  <thead>\n",
       "    <tr style=\"text-align: right;\">\n",
       "      <th>Coder ID</th>\n",
       "      <th>Ada</th>\n",
       "      <th>Francesco</th>\n",
       "      <th>Luke</th>\n",
       "      <th>Mare</th>\n",
       "    </tr>\n",
       "    <tr>\n",
       "      <th>Post ID</th>\n",
       "      <th></th>\n",
       "      <th></th>\n",
       "      <th></th>\n",
       "      <th></th>\n",
       "    </tr>\n",
       "  </thead>\n",
       "  <tbody>\n",
       "    <tr>\n",
       "      <th>1</th>\n",
       "      <td>No</td>\n",
       "      <td>No</td>\n",
       "      <td>No</td>\n",
       "      <td>No</td>\n",
       "    </tr>\n",
       "    <tr>\n",
       "      <th>10</th>\n",
       "      <td>No</td>\n",
       "      <td>No</td>\n",
       "      <td>No</td>\n",
       "      <td>Yes</td>\n",
       "    </tr>\n",
       "    <tr>\n",
       "      <th>100</th>\n",
       "      <td>No</td>\n",
       "      <td>No</td>\n",
       "      <td>No</td>\n",
       "      <td>No</td>\n",
       "    </tr>\n",
       "    <tr>\n",
       "      <th>11</th>\n",
       "      <td>No</td>\n",
       "      <td>No</td>\n",
       "      <td>No</td>\n",
       "      <td>No</td>\n",
       "    </tr>\n",
       "    <tr>\n",
       "      <th>12</th>\n",
       "      <td>Yes</td>\n",
       "      <td>Yes</td>\n",
       "      <td>Yes</td>\n",
       "      <td>Yes</td>\n",
       "    </tr>\n",
       "    <tr>\n",
       "      <th>...</th>\n",
       "      <td>...</td>\n",
       "      <td>...</td>\n",
       "      <td>...</td>\n",
       "      <td>...</td>\n",
       "    </tr>\n",
       "    <tr>\n",
       "      <th>95</th>\n",
       "      <td>No</td>\n",
       "      <td>Yes</td>\n",
       "      <td>No</td>\n",
       "      <td>No</td>\n",
       "    </tr>\n",
       "    <tr>\n",
       "      <th>96</th>\n",
       "      <td>No</td>\n",
       "      <td>No</td>\n",
       "      <td>No</td>\n",
       "      <td>No</td>\n",
       "    </tr>\n",
       "    <tr>\n",
       "      <th>97</th>\n",
       "      <td>Yes</td>\n",
       "      <td>No</td>\n",
       "      <td>No</td>\n",
       "      <td>No</td>\n",
       "    </tr>\n",
       "    <tr>\n",
       "      <th>98</th>\n",
       "      <td>No</td>\n",
       "      <td>No</td>\n",
       "      <td>No</td>\n",
       "      <td>No</td>\n",
       "    </tr>\n",
       "    <tr>\n",
       "      <th>99</th>\n",
       "      <td>No</td>\n",
       "      <td>Yes</td>\n",
       "      <td>No</td>\n",
       "      <td>No</td>\n",
       "    </tr>\n",
       "  </tbody>\n",
       "</table>\n",
       "<p>100 rows × 4 columns</p>\n",
       "</div>"
      ],
      "text/plain": [
       "Coder ID  Ada Francesco Luke Mare\n",
       "Post ID                          \n",
       "1          No        No   No   No\n",
       "10         No        No   No  Yes\n",
       "100        No        No   No   No\n",
       "11         No        No   No   No\n",
       "12        Yes       Yes  Yes  Yes\n",
       "...       ...       ...  ...  ...\n",
       "95         No       Yes   No   No\n",
       "96         No        No   No   No\n",
       "97        Yes        No   No   No\n",
       "98         No        No   No   No\n",
       "99         No       Yes   No   No\n",
       "\n",
       "[100 rows x 4 columns]"
      ]
     },
     "execution_count": 11,
     "metadata": {},
     "output_type": "execute_result"
    }
   ],
   "source": [
    "results_Q1"
   ]
  },
  {
   "cell_type": "code",
   "execution_count": 12,
   "id": "8a1c0471-6357-4f69-8dea-80638b3b1b9d",
   "metadata": {},
   "outputs": [
    {
     "name": "stdout",
     "output_type": "stream",
     "text": [
      "Coder ID  Ada Francesco Luke Mare\n",
      "Post ID                          \n",
      "10         No        No   No  Yes\n",
      "13        Yes       Yes  Yes   No\n",
      "14        Yes       Yes   No   No\n",
      "18         No        No  Yes   No\n",
      "19        Yes        No   No   No\n",
      "23         No       Yes  Yes   No\n",
      "26         No        No  Yes  Yes\n",
      "28        Yes        No   No   No\n",
      "3          No       Yes  Yes  Yes\n",
      "31         No       Yes   No   No\n",
      "35         No        No   No  Yes\n",
      "40         No        No   No  Yes\n",
      "51        Yes        No   No  Yes\n",
      "53         No        No   No  Yes\n",
      "55        Yes        No  Yes   No\n",
      "59        Yes        No  Yes  Yes\n",
      "60         No       Yes   No   No\n",
      "66         No        No  Yes   No\n",
      "70        Yes        No  Yes  Yes\n",
      "72         No        No   No  Yes\n",
      "76         No        No  Yes   No\n",
      "79         No        No   No  Yes\n",
      "8          No        No   No  Yes\n",
      "80         No        No  Yes   No\n",
      "82         No        No  Yes  Yes\n",
      "86        Yes        No  Yes   No\n",
      "87         No       Yes  Yes   No\n",
      "88         No       Yes  Yes  Yes\n",
      "95         No       Yes   No   No\n",
      "97        Yes        No   No   No\n",
      "99         No       Yes   No   No\n"
     ]
    }
   ],
   "source": [
    "def get_disagreement_rows(df):\n",
    "    return df[df.nunique(axis=1) > 1]\n",
    "\n",
    "disagreement_rows = get_disagreement_rows(results_Q1)\n",
    "print(disagreement_rows)"
   ]
  },
  {
   "cell_type": "code",
   "execution_count": 13,
   "id": "6fedc625-0fba-40ab-b413-75315b935fb6",
   "metadata": {},
   "outputs": [
    {
     "data": {
      "text/plain": [
       "31"
      ]
     },
     "execution_count": 13,
     "metadata": {},
     "output_type": "execute_result"
    }
   ],
   "source": [
    "len(disagreement_rows)"
   ]
  },
  {
   "cell_type": "code",
   "execution_count": 14,
   "id": "95c53bc9-1761-4ca4-9898-0308f022a294",
   "metadata": {},
   "outputs": [
    {
     "data": {
      "text/plain": [
       "0.69"
      ]
     },
     "execution_count": 14,
     "metadata": {},
     "output_type": "execute_result"
    }
   ],
   "source": [
    "(100-31)/100"
   ]
  },
  {
   "cell_type": "code",
   "execution_count": null,
   "id": "f74281b7-1af8-4b7a-82b8-948b57feaefa",
   "metadata": {},
   "outputs": [],
   "source": []
  },
  {
   "cell_type": "code",
   "execution_count": 15,
   "id": "b0c28104-1b2f-46ec-94ff-dd550346749d",
   "metadata": {},
   "outputs": [
    {
     "data": {
      "text/html": [
       "<div>\n",
       "<style scoped>\n",
       "    .dataframe tbody tr th:only-of-type {\n",
       "        vertical-align: middle;\n",
       "    }\n",
       "\n",
       "    .dataframe tbody tr th {\n",
       "        vertical-align: top;\n",
       "    }\n",
       "\n",
       "    .dataframe thead th {\n",
       "        text-align: right;\n",
       "    }\n",
       "</style>\n",
       "<table border=\"1\" class=\"dataframe\">\n",
       "  <thead>\n",
       "    <tr style=\"text-align: right;\">\n",
       "      <th></th>\n",
       "      <th>Agreeability (%)</th>\n",
       "    </tr>\n",
       "  </thead>\n",
       "  <tbody>\n",
       "    <tr>\n",
       "      <th>(Ada, Luke)</th>\n",
       "      <td>85.0</td>\n",
       "    </tr>\n",
       "    <tr>\n",
       "      <th>(Francesco, Luke)</th>\n",
       "      <td>85.0</td>\n",
       "    </tr>\n",
       "    <tr>\n",
       "      <th>(Ada, Francesco)</th>\n",
       "      <td>84.0</td>\n",
       "    </tr>\n",
       "    <tr>\n",
       "      <th>(Luke, Mare)</th>\n",
       "      <td>83.0</td>\n",
       "    </tr>\n",
       "    <tr>\n",
       "      <th>(Ada, Mare)</th>\n",
       "      <td>82.0</td>\n",
       "    </tr>\n",
       "    <tr>\n",
       "      <th>(Francesco, Mare)</th>\n",
       "      <td>80.0</td>\n",
       "    </tr>\n",
       "  </tbody>\n",
       "</table>\n",
       "</div>"
      ],
      "text/plain": [
       "                   Agreeability (%)\n",
       "(Ada, Luke)                    85.0\n",
       "(Francesco, Luke)              85.0\n",
       "(Ada, Francesco)               84.0\n",
       "(Luke, Mare)                   83.0\n",
       "(Ada, Mare)                    82.0\n",
       "(Francesco, Mare)              80.0"
      ]
     },
     "execution_count": 15,
     "metadata": {},
     "output_type": "execute_result"
    }
   ],
   "source": [
    "from itertools import combinations\n",
    "\n",
    "# Initialize a dictionary to store results\n",
    "agreeability = {}\n",
    "\n",
    "# Get list of coder names\n",
    "coders = results_Q1.columns.tolist()\n",
    "\n",
    "# Compare each pair\n",
    "for coder1, coder2 in combinations(coders, 2):\n",
    "    agreement = (results_Q1[coder1] == results_Q1[coder2]).sum()\n",
    "    total = len(results_Q1)\n",
    "    percentage = agreement / total * 100\n",
    "    agreeability[(coder1, coder2)] = percentage\n",
    "\n",
    "# Display as a DataFrame\n",
    "agree_df = pd.DataFrame.from_dict(agreeability, orient='index', columns=['Agreeability (%)'])\n",
    "agree_df = agree_df.sort_values(by='Agreeability (%)', ascending=False)\n",
    "agree_df\n"
   ]
  },
  {
   "cell_type": "code",
   "execution_count": null,
   "id": "fcaeba3b-319d-44cd-a7c7-9eb52909e977",
   "metadata": {},
   "outputs": [],
   "source": []
  },
  {
   "cell_type": "code",
   "execution_count": 16,
   "id": "8dcff94a-97a6-48b3-97ba-cafe5d5989d1",
   "metadata": {},
   "outputs": [],
   "source": [
    "results_filtered = results[results['Coder ID'] != 'Mare']"
   ]
  },
  {
   "cell_type": "code",
   "execution_count": 17,
   "id": "1fbd8a18-0cf7-4fa2-8aa6-5236f2885445",
   "metadata": {},
   "outputs": [
    {
     "data": {
      "text/plain": [
       "np.float64(0.5163513608551937)"
      ]
     },
     "execution_count": 17,
     "metadata": {},
     "output_type": "execute_result"
    }
   ],
   "source": [
    "simpledorff.calculate_krippendorffs_alpha_for_df(results_filtered,experiment_col='Post ID',\n",
    "                                                 annotator_col='Coder ID',\n",
    "                                                 class_col='Attribution Presence')"
   ]
  },
  {
   "cell_type": "code",
   "execution_count": null,
   "id": "a25b1ca8-0f23-4ebf-8016-755b00f88178",
   "metadata": {},
   "outputs": [],
   "source": []
  },
  {
   "cell_type": "code",
   "execution_count": null,
   "id": "2e0ce601-b234-4513-b9c6-60ec3cd42db7",
   "metadata": {},
   "outputs": [],
   "source": []
  },
  {
   "cell_type": "code",
   "execution_count": 18,
   "id": "16157b1c-f8e2-47b4-9c9f-d5afb2865f13",
   "metadata": {},
   "outputs": [
    {
     "name": "stdout",
     "output_type": "stream",
     "text": [
      "Number of tweets coded as 'Yes' by all coders: 8\n"
     ]
    }
   ],
   "source": [
    "all_yes_count = (results_Q1 == 'Yes').all(axis=1).sum()\n",
    "print(f\"Number of tweets coded as 'Yes' by all coders: {all_yes_count}\")"
   ]
  },
  {
   "cell_type": "code",
   "execution_count": null,
   "id": "3985846a-968a-4a64-8762-137cea15db65",
   "metadata": {},
   "outputs": [],
   "source": []
  },
  {
   "cell_type": "code",
   "execution_count": 19,
   "id": "2ec80efa-14a4-4bf5-bbc7-49744012b00e",
   "metadata": {},
   "outputs": [],
   "source": [
    "coder_cols = ['Ada', 'Francesco', 'Luke', 'Mare']\n",
    "all_yes_df = results_Q1[results_Q1[coder_cols].eq('Yes').all(axis=1)]"
   ]
  },
  {
   "cell_type": "code",
   "execution_count": 20,
   "id": "81fe0249-29ad-427f-b595-74d39a077262",
   "metadata": {},
   "outputs": [
    {
     "data": {
      "text/html": [
       "<div>\n",
       "<style scoped>\n",
       "    .dataframe tbody tr th:only-of-type {\n",
       "        vertical-align: middle;\n",
       "    }\n",
       "\n",
       "    .dataframe tbody tr th {\n",
       "        vertical-align: top;\n",
       "    }\n",
       "\n",
       "    .dataframe thead th {\n",
       "        text-align: right;\n",
       "    }\n",
       "</style>\n",
       "<table border=\"1\" class=\"dataframe\">\n",
       "  <thead>\n",
       "    <tr style=\"text-align: right;\">\n",
       "      <th>Coder ID</th>\n",
       "      <th>Ada</th>\n",
       "      <th>Francesco</th>\n",
       "      <th>Luke</th>\n",
       "      <th>Mare</th>\n",
       "    </tr>\n",
       "    <tr>\n",
       "      <th>Post ID</th>\n",
       "      <th></th>\n",
       "      <th></th>\n",
       "      <th></th>\n",
       "      <th></th>\n",
       "    </tr>\n",
       "  </thead>\n",
       "  <tbody>\n",
       "    <tr>\n",
       "      <th>12</th>\n",
       "      <td>Yes</td>\n",
       "      <td>Yes</td>\n",
       "      <td>Yes</td>\n",
       "      <td>Yes</td>\n",
       "    </tr>\n",
       "    <tr>\n",
       "      <th>15</th>\n",
       "      <td>Yes</td>\n",
       "      <td>Yes</td>\n",
       "      <td>Yes</td>\n",
       "      <td>Yes</td>\n",
       "    </tr>\n",
       "    <tr>\n",
       "      <th>20</th>\n",
       "      <td>Yes</td>\n",
       "      <td>Yes</td>\n",
       "      <td>Yes</td>\n",
       "      <td>Yes</td>\n",
       "    </tr>\n",
       "    <tr>\n",
       "      <th>41</th>\n",
       "      <td>Yes</td>\n",
       "      <td>Yes</td>\n",
       "      <td>Yes</td>\n",
       "      <td>Yes</td>\n",
       "    </tr>\n",
       "    <tr>\n",
       "      <th>54</th>\n",
       "      <td>Yes</td>\n",
       "      <td>Yes</td>\n",
       "      <td>Yes</td>\n",
       "      <td>Yes</td>\n",
       "    </tr>\n",
       "    <tr>\n",
       "      <th>61</th>\n",
       "      <td>Yes</td>\n",
       "      <td>Yes</td>\n",
       "      <td>Yes</td>\n",
       "      <td>Yes</td>\n",
       "    </tr>\n",
       "    <tr>\n",
       "      <th>63</th>\n",
       "      <td>Yes</td>\n",
       "      <td>Yes</td>\n",
       "      <td>Yes</td>\n",
       "      <td>Yes</td>\n",
       "    </tr>\n",
       "    <tr>\n",
       "      <th>83</th>\n",
       "      <td>Yes</td>\n",
       "      <td>Yes</td>\n",
       "      <td>Yes</td>\n",
       "      <td>Yes</td>\n",
       "    </tr>\n",
       "  </tbody>\n",
       "</table>\n",
       "</div>"
      ],
      "text/plain": [
       "Coder ID  Ada Francesco Luke Mare\n",
       "Post ID                          \n",
       "12        Yes       Yes  Yes  Yes\n",
       "15        Yes       Yes  Yes  Yes\n",
       "20        Yes       Yes  Yes  Yes\n",
       "41        Yes       Yes  Yes  Yes\n",
       "54        Yes       Yes  Yes  Yes\n",
       "61        Yes       Yes  Yes  Yes\n",
       "63        Yes       Yes  Yes  Yes\n",
       "83        Yes       Yes  Yes  Yes"
      ]
     },
     "execution_count": 20,
     "metadata": {},
     "output_type": "execute_result"
    }
   ],
   "source": [
    "all_yes_df"
   ]
  },
  {
   "cell_type": "code",
   "execution_count": null,
   "id": "18e05759-df3b-4be7-b84d-74256a07fcc4",
   "metadata": {},
   "outputs": [],
   "source": []
  }
 ],
 "metadata": {
  "kernelspec": {
   "display_name": "Python 3 (ipykernel)",
   "language": "python",
   "name": "python3"
  },
  "language_info": {
   "codemirror_mode": {
    "name": "ipython",
    "version": 3
   },
   "file_extension": ".py",
   "mimetype": "text/x-python",
   "name": "python",
   "nbconvert_exporter": "python",
   "pygments_lexer": "ipython3",
   "version": "3.12.5"
  }
 },
 "nbformat": 4,
 "nbformat_minor": 5
}
