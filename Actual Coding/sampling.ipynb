{
 "cells": [
  {
   "cell_type": "code",
   "execution_count": 1,
   "id": "8fcce7f6-84b9-41cd-8c55-e20e73e03111",
   "metadata": {},
   "outputs": [],
   "source": [
    "from striprtf.striprtf import rtf_to_text\n",
    "import json\n",
    "import pandas as pd"
   ]
  },
  {
   "cell_type": "markdown",
   "id": "9967970c-ad13-454d-99b6-da2071f3e6c6",
   "metadata": {},
   "source": [
    "### Convert the rft file into a JSON file"
   ]
  },
  {
   "cell_type": "markdown",
   "id": "27b79b0d-85be-41c0-8c31-8ee18c060a9a",
   "metadata": {},
   "source": [
    "Data **before** Trump's first inauguration"
   ]
  },
  {
   "cell_type": "code",
   "execution_count": 2,
   "id": "e2af40f8-5bf2-4ca8-8fa4-a6f929631f24",
   "metadata": {},
   "outputs": [
    {
     "name": "stdout",
     "output_type": "stream",
     "text": [
      "Saved 1730 records into raw_data_before.json\n"
     ]
    }
   ],
   "source": [
    "# Step 1: Read RTF\n",
    "with open('raw_data_before.rtf', 'r', encoding='utf-8') as file:\n",
    "    rtf_content = file.read()\n",
    "\n",
    "# Step 2: Convert to plain text\n",
    "plain_text = rtf_to_text(rtf_content)\n",
    "\n",
    "# Step 3: Load JSON\n",
    "try:\n",
    "    data_1 = json.loads(plain_text)\n",
    "except json.JSONDecodeError as e:\n",
    "    print(\"Failed to decode JSON:\", e)\n",
    "    data_1 = []\n",
    "\n",
    "# Step 4: Save to JSON file\n",
    "if data_1:\n",
    "    with open('raw_data_before.json', 'w', encoding='utf-8', errors='replace') as f:\n",
    "        json.dump(data_1, f, indent=4, ensure_ascii=False)\n",
    "    print(f\"Saved {len(data_1)} records into raw_data_before.json\")\n",
    "else:\n",
    "    print(\"No data found.\")"
   ]
  },
  {
   "cell_type": "markdown",
   "id": "bc0f07a4-f97a-4dab-b6e9-29ea856c6fc3",
   "metadata": {},
   "source": [
    "Data **after** Trump's first inauguration"
   ]
  },
  {
   "cell_type": "code",
   "execution_count": 3,
   "id": "47ff6f18-3918-45e5-9e86-1561c12bd484",
   "metadata": {},
   "outputs": [
    {
     "name": "stdout",
     "output_type": "stream",
     "text": [
      "Saved 943 records into raw_data_after.json\n"
     ]
    }
   ],
   "source": [
    "# Step 1: Read RTF\n",
    "with open('raw_data_after.rtf', 'r', encoding='utf-8') as file:\n",
    "    rtf_content = file.read()\n",
    "\n",
    "# Step 2: Convert to plain text\n",
    "plain_text = rtf_to_text(rtf_content)\n",
    "\n",
    "# Step 3: Load JSON\n",
    "try:\n",
    "    data_2 = json.loads(plain_text)\n",
    "except json.JSONDecodeError as e:\n",
    "    print(\"Failed to decode JSON:\", e)\n",
    "    data_2 = []\n",
    "\n",
    "# Step 4: Save to JSON file\n",
    "if data_2:\n",
    "    with open('raw_data_after.json', 'w', encoding='utf-8', errors='replace') as f:\n",
    "        json.dump(data_2, f, indent=4, ensure_ascii=False)\n",
    "    print(f\"Saved {len(data_2)} records into raw_data_after.json\")\n",
    "else:\n",
    "    print(\"No data found.\")"
   ]
  },
  {
   "cell_type": "markdown",
   "id": "bb4ca416-21f0-451f-b273-270ee66df841",
   "metadata": {},
   "source": [
    "### Data cleaning & merging"
   ]
  },
  {
   "cell_type": "code",
   "execution_count": 4,
   "id": "b0e27d3d-10f2-4b12-8154-a0b7fddb0fd6",
   "metadata": {},
   "outputs": [],
   "source": [
    "raw_data_1 = pd.read_json(\"raw_data_before.json\")"
   ]
  },
  {
   "cell_type": "code",
   "execution_count": 5,
   "id": "cb49bc98-aab7-49b7-8f08-7cbe890f6a0b",
   "metadata": {},
   "outputs": [],
   "source": [
    "raw_data_2 = pd.read_json(\"raw_data_after.json\")"
   ]
  },
  {
   "cell_type": "code",
   "execution_count": 6,
   "id": "ae651ec2-245e-4797-aeeb-f37178a24c1d",
   "metadata": {},
   "outputs": [],
   "source": [
    "merged_raw_data = pd.concat([raw_data_1, raw_data_2], ignore_index=True)"
   ]
  },
  {
   "cell_type": "code",
   "execution_count": 7,
   "id": "70698431-c478-4ebc-8361-e02121cb2e3a",
   "metadata": {},
   "outputs": [],
   "source": [
    "sorted_raw_data = merged_raw_data.sort_values(by='date')"
   ]
  },
  {
   "cell_type": "code",
   "execution_count": 8,
   "id": "aad7c0cd-dc8f-4f3d-9958-98fb9d7488e5",
   "metadata": {},
   "outputs": [],
   "source": [
    "# Filter out rows where the 'date' is July 24, 2017 (CET) - only 2 posts in the dataset\n",
    "filtered_raw_data = sorted_raw_data[sorted_raw_data['date'].dt.date != pd.to_datetime('2017-07-24').date()]"
   ]
  },
  {
   "cell_type": "code",
   "execution_count": 9,
   "id": "77736e75-d9e6-47d7-b50f-2719afdfd62b",
   "metadata": {},
   "outputs": [],
   "source": [
    "data = filtered_raw_data[['date', 'id', 'text']]"
   ]
  },
  {
   "cell_type": "code",
   "execution_count": 10,
   "id": "8d757667-b1af-4db5-ae70-1c606452dabd",
   "metadata": {},
   "outputs": [
    {
     "name": "stdout",
     "output_type": "stream",
     "text": [
      "There are a total of 2671 posts in the downloaded dataset (without retweets).\n"
     ]
    }
   ],
   "source": [
    "print(f\"There are a total of {len(data)} posts in the downloaded dataset (without retweets).\")"
   ]
  },
  {
   "cell_type": "markdown",
   "id": "0904d78d-ed3c-41ca-b085-fc27808b24c5",
   "metadata": {},
   "source": [
    "### Systematic random sampling"
   ]
  },
  {
   "cell_type": "code",
   "execution_count": 11,
   "id": "03c476f0-c8f0-4068-9290-5c7c38e5b368",
   "metadata": {},
   "outputs": [],
   "source": [
    "interval = len(data) / 1200"
   ]
  },
  {
   "cell_type": "code",
   "execution_count": 12,
   "id": "99cad756-a4cd-4862-bbd6-90f2f5d0c8ec",
   "metadata": {},
   "outputs": [],
   "source": [
    "sample_indexes = [int(i * interval) for i in range(1200)]"
   ]
  },
  {
   "cell_type": "code",
   "execution_count": 13,
   "id": "59e54465-d1ae-49bd-b506-ba29c95acd98",
   "metadata": {},
   "outputs": [],
   "source": [
    "sample_indexes = [idx for idx in sample_indexes if idx < len(data)]"
   ]
  },
  {
   "cell_type": "code",
   "execution_count": 14,
   "id": "8e17509b-74da-49fd-987f-b60284b90b4f",
   "metadata": {},
   "outputs": [],
   "source": [
    "sampled_data = data.iloc[sample_indexes].reset_index(drop=True)"
   ]
  },
  {
   "cell_type": "code",
   "execution_count": 15,
   "id": "717005da-948e-4d05-a8e2-7932fb0e1363",
   "metadata": {},
   "outputs": [],
   "source": [
    "sampled_data.insert(0, 'ID', range(1, len(sampled_data) + 1))"
   ]
  },
  {
   "cell_type": "code",
   "execution_count": 16,
   "id": "78bbdb3a-ea6e-4088-b0f4-73a14c929a63",
   "metadata": {},
   "outputs": [
    {
     "data": {
      "text/html": [
       "<div>\n",
       "<style scoped>\n",
       "    .dataframe tbody tr th:only-of-type {\n",
       "        vertical-align: middle;\n",
       "    }\n",
       "\n",
       "    .dataframe tbody tr th {\n",
       "        vertical-align: top;\n",
       "    }\n",
       "\n",
       "    .dataframe thead th {\n",
       "        text-align: right;\n",
       "    }\n",
       "</style>\n",
       "<table border=\"1\" class=\"dataframe\">\n",
       "  <thead>\n",
       "    <tr style=\"text-align: right;\">\n",
       "      <th></th>\n",
       "      <th>ID</th>\n",
       "      <th>date</th>\n",
       "      <th>id</th>\n",
       "      <th>text</th>\n",
       "    </tr>\n",
       "  </thead>\n",
       "  <tbody>\n",
       "    <tr>\n",
       "      <th>0</th>\n",
       "      <td>1</td>\n",
       "      <td>2016-07-19 04:14:11</td>\n",
       "      <td>755254384062263296</td>\n",
       "      <td>It was truly an honor to introduce my wife, Me...</td>\n",
       "    </tr>\n",
       "    <tr>\n",
       "      <th>1</th>\n",
       "      <td>2</td>\n",
       "      <td>2016-07-19 19:34:40</td>\n",
       "      <td>755486029742641152</td>\n",
       "      <td>#MakeAmericaWorkAgain\\n#TrumpPence16 #RNCinCLE...</td>\n",
       "    </tr>\n",
       "    <tr>\n",
       "      <th>2</th>\n",
       "      <td>3</td>\n",
       "      <td>2016-07-19 22:12:56</td>\n",
       "      <td>755525857456844800</td>\n",
       "      <td>The ROLL CALL is beginning at the Republican N...</td>\n",
       "    </tr>\n",
       "    <tr>\n",
       "      <th>3</th>\n",
       "      <td>4</td>\n",
       "      <td>2016-07-20 10:18:17</td>\n",
       "      <td>755708398537154560</td>\n",
       "      <td>Congratulations to my children, Don and Tiffan...</td>\n",
       "    </tr>\n",
       "    <tr>\n",
       "      <th>4</th>\n",
       "      <td>5</td>\n",
       "      <td>2016-07-20 12:51:58</td>\n",
       "      <td>755747074939949056</td>\n",
       "      <td>In November, I think the people of Ohio will r...</td>\n",
       "    </tr>\n",
       "    <tr>\n",
       "      <th>...</th>\n",
       "      <td>...</td>\n",
       "      <td>...</td>\n",
       "      <td>...</td>\n",
       "      <td>...</td>\n",
       "    </tr>\n",
       "    <tr>\n",
       "      <th>1195</th>\n",
       "      <td>1196</td>\n",
       "      <td>2017-07-22 11:47:53</td>\n",
       "      <td>888727293346156544</td>\n",
       "      <td>...What about all of the Clinton ties to Russi...</td>\n",
       "    </tr>\n",
       "    <tr>\n",
       "      <th>1196</th>\n",
       "      <td>1197</td>\n",
       "      <td>2017-07-22 12:17:54</td>\n",
       "      <td>888734848550043648</td>\n",
       "      <td>The Republican Senators must step up to the pl...</td>\n",
       "    </tr>\n",
       "    <tr>\n",
       "      <th>1197</th>\n",
       "      <td>1198</td>\n",
       "      <td>2017-07-22 14:43:18</td>\n",
       "      <td>888771440014749696</td>\n",
       "      <td>Join me live for the commissioning ceremony of...</td>\n",
       "    </tr>\n",
       "    <tr>\n",
       "      <th>1198</th>\n",
       "      <td>1199</td>\n",
       "      <td>2017-07-22 22:57:01</td>\n",
       "      <td>888895687865380864</td>\n",
       "      <td>American steel &amp;amp, American hands have const...</td>\n",
       "    </tr>\n",
       "    <tr>\n",
       "      <th>1199</th>\n",
       "      <td>1200</td>\n",
       "      <td>2017-07-23 20:09:05</td>\n",
       "      <td>889215815022727168</td>\n",
       "      <td>As the phony Russian Witch Hunt continues, two...</td>\n",
       "    </tr>\n",
       "  </tbody>\n",
       "</table>\n",
       "<p>1200 rows × 4 columns</p>\n",
       "</div>"
      ],
      "text/plain": [
       "        ID                date                  id  \\\n",
       "0        1 2016-07-19 04:14:11  755254384062263296   \n",
       "1        2 2016-07-19 19:34:40  755486029742641152   \n",
       "2        3 2016-07-19 22:12:56  755525857456844800   \n",
       "3        4 2016-07-20 10:18:17  755708398537154560   \n",
       "4        5 2016-07-20 12:51:58  755747074939949056   \n",
       "...    ...                 ...                 ...   \n",
       "1195  1196 2017-07-22 11:47:53  888727293346156544   \n",
       "1196  1197 2017-07-22 12:17:54  888734848550043648   \n",
       "1197  1198 2017-07-22 14:43:18  888771440014749696   \n",
       "1198  1199 2017-07-22 22:57:01  888895687865380864   \n",
       "1199  1200 2017-07-23 20:09:05  889215815022727168   \n",
       "\n",
       "                                                   text  \n",
       "0     It was truly an honor to introduce my wife, Me...  \n",
       "1     #MakeAmericaWorkAgain\\n#TrumpPence16 #RNCinCLE...  \n",
       "2     The ROLL CALL is beginning at the Republican N...  \n",
       "3     Congratulations to my children, Don and Tiffan...  \n",
       "4     In November, I think the people of Ohio will r...  \n",
       "...                                                 ...  \n",
       "1195  ...What about all of the Clinton ties to Russi...  \n",
       "1196  The Republican Senators must step up to the pl...  \n",
       "1197  Join me live for the commissioning ceremony of...  \n",
       "1198  American steel &amp, American hands have const...  \n",
       "1199  As the phony Russian Witch Hunt continues, two...  \n",
       "\n",
       "[1200 rows x 4 columns]"
      ]
     },
     "execution_count": 16,
     "metadata": {},
     "output_type": "execute_result"
    }
   ],
   "source": [
    "sampled_data"
   ]
  },
  {
   "cell_type": "markdown",
   "id": "cfcc7e75-4631-46e8-93a0-92f1eb385d70",
   "metadata": {},
   "source": [
    "### Prepare the Excel file"
   ]
  },
  {
   "cell_type": "code",
   "execution_count": 17,
   "id": "8b0c8cfa-dfa7-4ebc-b1a2-8ba1fc3c82b0",
   "metadata": {},
   "outputs": [],
   "source": [
    "sampled_data = sampled_data[['text']].rename(columns={'text': 'Text'})"
   ]
  },
  {
   "cell_type": "code",
   "execution_count": 18,
   "id": "22b14a9e-5943-418c-9e21-88abc4376180",
   "metadata": {},
   "outputs": [],
   "source": [
    "sampled_data.to_excel('sampled_1200_posts.xlsx', index=False)"
   ]
  }
 ],
 "metadata": {
  "kernelspec": {
   "display_name": "Python 3 (ipykernel)",
   "language": "python",
   "name": "python3"
  },
  "language_info": {
   "codemirror_mode": {
    "name": "ipython",
    "version": 3
   },
   "file_extension": ".py",
   "mimetype": "text/x-python",
   "name": "python",
   "nbconvert_exporter": "python",
   "pygments_lexer": "ipython3",
   "version": "3.12.5"
  }
 },
 "nbformat": 4,
 "nbformat_minor": 5
}
