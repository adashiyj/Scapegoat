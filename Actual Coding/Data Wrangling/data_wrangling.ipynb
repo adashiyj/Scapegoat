{
 "cells": [
  {
   "cell_type": "code",
   "execution_count": 1,
   "id": "43960f10-2fba-4a4c-a867-823be3cb7dce",
   "metadata": {},
   "outputs": [],
   "source": [
    "import pandas as pd\n",
    "import numpy as np"
   ]
  },
  {
   "cell_type": "markdown",
   "id": "603fa270-8c9a-4f64-aad8-474e30b833cb",
   "metadata": {},
   "source": [
    "### Load the datasets"
   ]
  },
  {
   "cell_type": "code",
   "execution_count": 2,
   "id": "c1546250-6866-40ac-81b3-4ee591a1a0d7",
   "metadata": {},
   "outputs": [],
   "source": [
    "df_sum = pd.read_excel(\"1200_sampled_data.xlsx\")\n",
    "df_1 = pd.read_excel(\"Luke_posts.xlsx\")\n",
    "df_2 = pd.read_excel(\"Ada_posts.xlsx\")\n",
    "df_3 = pd.read_excel(\"Mare_posts.xlsx\")\n",
    "df_4 = pd.read_excel(\"Francesco_posts.xlsx\")\n",
    "df_final = pd.read_csv(\"raw_data.csv\")"
   ]
  },
  {
   "cell_type": "markdown",
   "id": "d70dc534-da05-46a2-a91b-98e2da9b82b4",
   "metadata": {},
   "source": [
    "### Merge the datasets"
   ]
  },
  {
   "cell_type": "code",
   "execution_count": 4,
   "id": "df46b13c-50c5-450a-9f88-a52d4aa2bac4",
   "metadata": {},
   "outputs": [],
   "source": [
    "df_combined = pd.concat([df_1, df_2, df_3, df_4], ignore_index=True)"
   ]
  },
  {
   "cell_type": "code",
   "execution_count": 5,
   "id": "bdb0150d-5043-4275-b142-3ab14ee5cae8",
   "metadata": {},
   "outputs": [],
   "source": [
    "df_merged = pd.merge(df_sum, df_combined, on = \"pseudID\", how = \"left\")"
   ]
  },
  {
   "cell_type": "code",
   "execution_count": 6,
   "id": "891b927d-9c25-40d6-b8f5-ba5702cdc791",
   "metadata": {},
   "outputs": [],
   "source": [
    "df = pd.merge(df_merged, df_final, left_on = \"postID\", right_on = \"Post_ID\", how = \"right\")"
   ]
  },
  {
   "cell_type": "markdown",
   "id": "dd31e386-96ba-4105-8922-400444782fff",
   "metadata": {},
   "source": [
    "### Data cleaning"
   ]
  },
  {
   "cell_type": "code",
   "execution_count": 8,
   "id": "ee1adabe-9ee8-4668-a098-dfdfc9e5fc0c",
   "metadata": {},
   "outputs": [
    {
     "data": {
      "text/plain": [
       "Index(['date', 'text_x', 'pseudID', 'postID', 'text_y', 'StartDate', 'EndDate',\n",
       "       'Status', 'IPAddress', 'Progress', 'Duration (in seconds)', 'Finished',\n",
       "       'RecordedDate', 'ResponseId', 'RecipientLastName', 'RecipientFirstName',\n",
       "       'RecipientEmail', 'ExternalReference', 'LocationLatitude',\n",
       "       'LocationLongitude', 'DistributionChannel', 'UserLanguage', 'Coder_ID',\n",
       "       'Post_ID', 'Attribution_Presence', 'Attribution_Number',\n",
       "       'Sender_Relevance_1', 'Evaluation_1', 'PresenceIndividual_1',\n",
       "       'SpecificIndividual_1', 'PresenceCollective_1', 'SpecificCollective_1',\n",
       "       'PresenceSystems_1', 'PresenceNetwork_1', 'Economy_1',\n",
       "       'SocialPolicies_1', 'PoliticsHumanRight_1', 'ExternalRelations_1'],\n",
       "      dtype='object')"
      ]
     },
     "execution_count": 8,
     "metadata": {},
     "output_type": "execute_result"
    }
   ],
   "source": [
    "df.columns"
   ]
  },
  {
   "cell_type": "code",
   "execution_count": 9,
   "id": "99834b3e-02a7-4c53-806e-791ad5227078",
   "metadata": {},
   "outputs": [],
   "source": [
    "# Drop irrelevant columns\n",
    "cols_drop = df.loc[:, 'text_y':'UserLanguage'].columns\n",
    "df = df.drop(columns=cols_drop)\n",
    "\n",
    "df = df.drop(columns=[\"pseudID\", \"postID\", \"Coder_ID\"])"
   ]
  },
  {
   "cell_type": "code",
   "execution_count": 10,
   "id": "38c32b05-ec6a-4e46-8cff-45165420c81a",
   "metadata": {},
   "outputs": [],
   "source": [
    "# Drop irrelevant rows\n",
    "df = df.iloc[2:] "
   ]
  },
  {
   "cell_type": "code",
   "execution_count": 11,
   "id": "1561e0ab-5c82-47d6-a7cf-015a97d00130",
   "metadata": {},
   "outputs": [],
   "source": [
    "# Convert string \"NaN\" to missing values\n",
    "df.replace(\"NaN\", np.nan, inplace=True)"
   ]
  },
  {
   "cell_type": "code",
   "execution_count": 12,
   "id": "03270992-8886-49b3-8bec-9c43af107b8f",
   "metadata": {},
   "outputs": [],
   "source": [
    "# sort the date from old to new\n",
    "df = df.sort_values(by='date', ascending=True) "
   ]
  },
  {
   "cell_type": "code",
   "execution_count": 13,
   "id": "cb6571c2-2765-4e17-9cc5-754a7d855e77",
   "metadata": {},
   "outputs": [],
   "source": [
    "# Create 'time_stamp' column based on the date range\n",
    "# 2016-07-19 to 2017-01-19 (before Trump's first inauguration) -> 0\n",
    "# 2017-01-20 to 2017-07-23 (after Trump's first inauguration) -> 1\n",
    "df['Time_Stamp'] = df['date'].apply(lambda x: 0 if pd.Timestamp('2016-07-19') <= x <= pd.Timestamp('2017-01-19') else 1)"
   ]
  },
  {
   "cell_type": "code",
   "execution_count": 14,
   "id": "c0ad4b54-0e82-431f-b8b8-e50fdbb4ee55",
   "metadata": {},
   "outputs": [],
   "source": [
    "# function that codes yes as 1 and no as 0\n",
    "def binary_encode_columns(df, columns):\n",
    "    \"\"\"\n",
    "    Converts 'Yes' to 1 and 'No' to 0 in specified columns of a DataFrame.\n",
    "\n",
    "    Parameters:\n",
    "    - df: pandas DataFrame\n",
    "    - columns: list of column names to convert\n",
    "\n",
    "    Returns:\n",
    "    - Modified DataFrame with binary encoding applied\n",
    "    \"\"\"\n",
    "    for col in columns:\n",
    "        df[col] = df[col].map({'Yes': 1, 'No': 0})\n",
    "    return df"
   ]
  },
  {
   "cell_type": "code",
   "execution_count": 15,
   "id": "dccff090-d7b9-4bd3-be68-95b70e66b1ca",
   "metadata": {},
   "outputs": [],
   "source": [
    "# Apply the function to columns with Yes and No options\n",
    "df = binary_encode_columns(df, ['Attribution_Presence'])\n",
    "df = binary_encode_columns(df, ['Sender_Relevance_1'])"
   ]
  },
  {
   "cell_type": "code",
   "execution_count": 16,
   "id": "dc8c5713-489c-46ea-9b33-1cf11efa3af4",
   "metadata": {},
   "outputs": [],
   "source": [
    "# Recode values of Attribution_Number\n",
    "df['Attribution_Number'] = df['Attribution_Number'].map({\n",
    "    'First': 1,\n",
    "    'Second': 2,\n",
    "    'Third': 3,\n",
    "    'Fourth': 4\n",
    "})"
   ]
  },
  {
   "cell_type": "code",
   "execution_count": 17,
   "id": "161e2609-8c8f-47b1-9d78-03d29744616f",
   "metadata": {},
   "outputs": [],
   "source": [
    "# Recode values of Evaluation_1\n",
    "df['Evaluation_1'] = df['Evaluation_1'].map({\n",
    "    'Negatively': 0,\n",
    "    'Positively': 1,\n",
    "    'Ambiguously': None\n",
    "})"
   ]
  },
  {
   "cell_type": "code",
   "execution_count": 18,
   "id": "b8cc7d15-6748-4ae7-b150-0053d0a7f3bb",
   "metadata": {},
   "outputs": [],
   "source": [
    "# Combine actor columns\n",
    "def assign_presence_code(row):\n",
    "    if row['PresenceIndividual_1'] == \"Yes\":\n",
    "        return 1\n",
    "    elif row['PresenceCollective_1'] == \"Yes\":\n",
    "        return 2\n",
    "    elif row['PresenceSystems_1'] == \"Yes\":\n",
    "        return 3\n",
    "    elif row['PresenceNetwork_1'] == \"Yes\":\n",
    "        return 4\n",
    "    else:\n",
    "        return np.nan\n",
    "\n",
    "df[\"Target\"] = df.apply(assign_presence_code, axis=1)"
   ]
  },
  {
   "cell_type": "code",
   "execution_count": 19,
   "id": "cfedc8b4-d0be-4a0e-a603-4a9f7e59d52b",
   "metadata": {},
   "outputs": [],
   "source": [
    "df = df.drop(columns=[\"PresenceIndividual_1\", \"PresenceCollective_1\", \"PresenceSystems_1\", \"PresenceNetwork_1\"])"
   ]
  },
  {
   "cell_type": "code",
   "execution_count": 20,
   "id": "d9c7ecde-289c-48db-bb86-be1f90f12639",
   "metadata": {},
   "outputs": [],
   "source": [
    "# Combine issue columns\n",
    "def assign_issue_code(row):\n",
    "    if row['Economy_1'] == \"Yes\":\n",
    "        return 1\n",
    "    elif row['SocialPolicies_1'] == \"Yes\":\n",
    "        return 2\n",
    "    elif row['PoliticsHumanRight_1'] == \"Yes\":\n",
    "        return 3\n",
    "    elif row['ExternalRelations_1'] == \"Yes\":\n",
    "        return 4\n",
    "    else:\n",
    "        return np.nan\n",
    "\n",
    "df[\"Topic\"] = df.apply(assign_issue_code, axis=1)"
   ]
  },
  {
   "cell_type": "code",
   "execution_count": 21,
   "id": "894301f5-b7e7-48fe-8f65-3cbcb56dcfad",
   "metadata": {},
   "outputs": [],
   "source": [
    "df = df.drop(columns=[\"Economy_1\", \"SocialPolicies_1\", \"PoliticsHumanRight_1\", \"ExternalRelations_1\"])"
   ]
  },
  {
   "cell_type": "code",
   "execution_count": 23,
   "id": "f8030916-576f-4395-9788-ef727bbd2a31",
   "metadata": {},
   "outputs": [],
   "source": [
    "# Rename columns\n",
    "df = df.rename(columns={\n",
    "    'text_x': 'Text',\n",
    "    'date': 'Date',\n",
    "    'Sender_Relevance_1': 'Sender_Relevance',\n",
    "    'Evaluation_1': 'Evaluation',\n",
    "    'SpecificIndividual_1': 'Specific_Individual',\n",
    "    'SpecificCollective_1': 'Specific_Collective'\n",
    "})"
   ]
  },
  {
   "cell_type": "code",
   "execution_count": 24,
   "id": "f96ab3af-463d-4463-bd5d-b793c0a396a0",
   "metadata": {},
   "outputs": [],
   "source": [
    "# Reorder the columns\n",
    "df = df[[\"Time_Stamp\", \"Date\", \"Text\", \"Post_ID\", \"Attribution_Presence\", \"Attribution_Number\", \"Sender_Relevance\", \"Evaluation\", \"Target\", \"Specific_Individual\", \"Specific_Collective\", \"Topic\"]]"
   ]
  },
  {
   "cell_type": "markdown",
   "id": "11f4f556-b3a9-41cf-bc68-dd6fcc6ba028",
   "metadata": {},
   "source": [
    "### Save the file"
   ]
  },
  {
   "cell_type": "code",
   "execution_count": 32,
   "id": "5298a798-df9d-45c6-91b6-c9a231a7a37a",
   "metadata": {},
   "outputs": [],
   "source": [
    "df.to_csv(\"clean_data.csv\", index=False)"
   ]
  },
  {
   "cell_type": "code",
   "execution_count": null,
   "id": "d28766e7-fe25-498b-9e52-0223bfea20b0",
   "metadata": {},
   "outputs": [],
   "source": []
  }
 ],
 "metadata": {
  "kernelspec": {
   "display_name": "Python 3 (ipykernel)",
   "language": "python",
   "name": "python3"
  },
  "language_info": {
   "codemirror_mode": {
    "name": "ipython",
    "version": 3
   },
   "file_extension": ".py",
   "mimetype": "text/x-python",
   "name": "python",
   "nbconvert_exporter": "python",
   "pygments_lexer": "ipython3",
   "version": "3.12.5"
  }
 },
 "nbformat": 4,
 "nbformat_minor": 5
}
