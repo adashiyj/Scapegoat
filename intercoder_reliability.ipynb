{
 "cells": [
  {
   "cell_type": "code",
   "execution_count": 1,
   "id": "71952938-9f63-4bea-84bd-7d04f8102674",
   "metadata": {},
   "outputs": [
    {
     "name": "stdout",
     "output_type": "stream",
     "text": [
      "Requirement already satisfied: simpledorff in /Users/ada/Library/jupyterlab-desktop/jlab_server/lib/python3.12/site-packages (0.0.2)\n"
     ]
    }
   ],
   "source": [
    "!pip install simpledorff"
   ]
  },
  {
   "cell_type": "code",
   "execution_count": 2,
   "id": "044d75a8-2eb6-4922-acaa-40e850108ca2",
   "metadata": {},
   "outputs": [],
   "source": [
    "import pandas as pd\n",
    "import simpledorff"
   ]
  },
  {
   "cell_type": "code",
   "execution_count": 3,
   "id": "1aaa48d9-ea0e-4229-9ad2-63ce2e49f07e",
   "metadata": {},
   "outputs": [],
   "source": [
    "results = pd.read_csv(\"Reliability Step 1_April 21, 2025_01.25.csv\")"
   ]
  },
  {
   "cell_type": "code",
   "execution_count": 4,
   "id": "c0fe9f16-e040-4ac6-8d2e-7ba2b63ea0a0",
   "metadata": {},
   "outputs": [
    {
     "data": {
      "text/plain": [
       "Index(['StartDate', 'EndDate', 'Status', 'IPAddress', 'Progress',\n",
       "       'Duration (in seconds)', 'Finished', 'RecordedDate', 'ResponseId',\n",
       "       'RecipientLastName', 'RecipientFirstName', 'RecipientEmail',\n",
       "       'ExternalReference', 'LocationLatitude', 'LocationLongitude',\n",
       "       'DistributionChannel', 'UserLanguage', 'Coder ID', 'Post ID',\n",
       "       'Attribution Presence', 'Number Attributions', 'Attribution1',\n",
       "       'Attribution2', 'Attribution3', 'Attribution4', 'Attribution5',\n",
       "       'Attribution6', 'Attribution7', 'AttributionOther'],\n",
       "      dtype='object')"
      ]
     },
     "execution_count": 4,
     "metadata": {},
     "output_type": "execute_result"
    }
   ],
   "source": [
    "results.columns"
   ]
  },
  {
   "cell_type": "code",
   "execution_count": 5,
   "id": "77a8611d-58b2-483f-8bc0-ea5168bdcd99",
   "metadata": {},
   "outputs": [
    {
     "data": {
      "text/plain": [
       "array(['Coder ID', '{\"ImportId\":\"QID17\"}', 'Francesco', 'Luke', 'Ada'],\n",
       "      dtype=object)"
      ]
     },
     "execution_count": 5,
     "metadata": {},
     "output_type": "execute_result"
    }
   ],
   "source": [
    "results['Coder ID'].unique()"
   ]
  },
  {
   "cell_type": "code",
   "execution_count": 6,
   "id": "7021f6c6-80f5-49ef-9240-71f453069db2",
   "metadata": {},
   "outputs": [],
   "source": [
    "results = results.loc[:, 'Coder ID':'AttributionOther']"
   ]
  },
  {
   "cell_type": "code",
   "execution_count": 7,
   "id": "22ec9203-3456-44a0-8d4b-8c5c929a6d4a",
   "metadata": {},
   "outputs": [],
   "source": [
    "results = results.iloc[2:]"
   ]
  },
  {
   "cell_type": "code",
   "execution_count": 8,
   "id": "fe65942d-6d70-4470-8045-0fd067f7968d",
   "metadata": {},
   "outputs": [
    {
     "data": {
      "text/html": [
       "<div>\n",
       "<style scoped>\n",
       "    .dataframe tbody tr th:only-of-type {\n",
       "        vertical-align: middle;\n",
       "    }\n",
       "\n",
       "    .dataframe tbody tr th {\n",
       "        vertical-align: top;\n",
       "    }\n",
       "\n",
       "    .dataframe thead th {\n",
       "        text-align: right;\n",
       "    }\n",
       "</style>\n",
       "<table border=\"1\" class=\"dataframe\">\n",
       "  <thead>\n",
       "    <tr style=\"text-align: right;\">\n",
       "      <th></th>\n",
       "      <th>Coder ID</th>\n",
       "      <th>Post ID</th>\n",
       "      <th>Attribution Presence</th>\n",
       "      <th>Number Attributions</th>\n",
       "      <th>Attribution1</th>\n",
       "      <th>Attribution2</th>\n",
       "      <th>Attribution3</th>\n",
       "      <th>Attribution4</th>\n",
       "      <th>Attribution5</th>\n",
       "      <th>Attribution6</th>\n",
       "      <th>Attribution7</th>\n",
       "      <th>AttributionOther</th>\n",
       "    </tr>\n",
       "  </thead>\n",
       "  <tbody>\n",
       "    <tr>\n",
       "      <th>2</th>\n",
       "      <td>Francesco</td>\n",
       "      <td>51</td>\n",
       "      <td>No</td>\n",
       "      <td>NaN</td>\n",
       "      <td>NaN</td>\n",
       "      <td>NaN</td>\n",
       "      <td>NaN</td>\n",
       "      <td>NaN</td>\n",
       "      <td>NaN</td>\n",
       "      <td>NaN</td>\n",
       "      <td>NaN</td>\n",
       "      <td>NaN</td>\n",
       "    </tr>\n",
       "    <tr>\n",
       "      <th>3</th>\n",
       "      <td>Francesco</td>\n",
       "      <td>52</td>\n",
       "      <td>No</td>\n",
       "      <td>NaN</td>\n",
       "      <td>NaN</td>\n",
       "      <td>NaN</td>\n",
       "      <td>NaN</td>\n",
       "      <td>NaN</td>\n",
       "      <td>NaN</td>\n",
       "      <td>NaN</td>\n",
       "      <td>NaN</td>\n",
       "      <td>NaN</td>\n",
       "    </tr>\n",
       "    <tr>\n",
       "      <th>4</th>\n",
       "      <td>Francesco</td>\n",
       "      <td>53</td>\n",
       "      <td>No</td>\n",
       "      <td>NaN</td>\n",
       "      <td>NaN</td>\n",
       "      <td>NaN</td>\n",
       "      <td>NaN</td>\n",
       "      <td>NaN</td>\n",
       "      <td>NaN</td>\n",
       "      <td>NaN</td>\n",
       "      <td>NaN</td>\n",
       "      <td>NaN</td>\n",
       "    </tr>\n",
       "    <tr>\n",
       "      <th>5</th>\n",
       "      <td>Francesco</td>\n",
       "      <td>54</td>\n",
       "      <td>No</td>\n",
       "      <td>NaN</td>\n",
       "      <td>NaN</td>\n",
       "      <td>NaN</td>\n",
       "      <td>NaN</td>\n",
       "      <td>NaN</td>\n",
       "      <td>NaN</td>\n",
       "      <td>NaN</td>\n",
       "      <td>NaN</td>\n",
       "      <td>NaN</td>\n",
       "    </tr>\n",
       "    <tr>\n",
       "      <th>6</th>\n",
       "      <td>Francesco</td>\n",
       "      <td>55</td>\n",
       "      <td>No</td>\n",
       "      <td>NaN</td>\n",
       "      <td>NaN</td>\n",
       "      <td>NaN</td>\n",
       "      <td>NaN</td>\n",
       "      <td>NaN</td>\n",
       "      <td>NaN</td>\n",
       "      <td>NaN</td>\n",
       "      <td>NaN</td>\n",
       "      <td>NaN</td>\n",
       "    </tr>\n",
       "  </tbody>\n",
       "</table>\n",
       "</div>"
      ],
      "text/plain": [
       "    Coder ID Post ID Attribution Presence Number Attributions Attribution1  \\\n",
       "2  Francesco      51                   No                 NaN          NaN   \n",
       "3  Francesco      52                   No                 NaN          NaN   \n",
       "4  Francesco      53                   No                 NaN          NaN   \n",
       "5  Francesco      54                   No                 NaN          NaN   \n",
       "6  Francesco      55                   No                 NaN          NaN   \n",
       "\n",
       "  Attribution2 Attribution3 Attribution4 Attribution5 Attribution6  \\\n",
       "2          NaN          NaN          NaN          NaN          NaN   \n",
       "3          NaN          NaN          NaN          NaN          NaN   \n",
       "4          NaN          NaN          NaN          NaN          NaN   \n",
       "5          NaN          NaN          NaN          NaN          NaN   \n",
       "6          NaN          NaN          NaN          NaN          NaN   \n",
       "\n",
       "  Attribution7 AttributionOther  \n",
       "2          NaN              NaN  \n",
       "3          NaN              NaN  \n",
       "4          NaN              NaN  \n",
       "5          NaN              NaN  \n",
       "6          NaN              NaN  "
      ]
     },
     "execution_count": 8,
     "metadata": {},
     "output_type": "execute_result"
    }
   ],
   "source": [
    "results.head()"
   ]
  },
  {
   "cell_type": "code",
   "execution_count": 9,
   "id": "110c9bdf-dd13-45d4-b3a0-03650c54a7e6",
   "metadata": {},
   "outputs": [
    {
     "data": {
      "text/plain": [
       "np.float64(0.49536541889483066)"
      ]
     },
     "execution_count": 9,
     "metadata": {},
     "output_type": "execute_result"
    }
   ],
   "source": [
    "simpledorff.calculate_krippendorffs_alpha_for_df(results,experiment_col='Post ID',\n",
    "                                                 annotator_col='Coder ID',\n",
    "                                                 class_col='Attribution Presence')"
   ]
  },
  {
   "cell_type": "code",
   "execution_count": 10,
   "id": "bf8ee11b-9300-41bb-8a15-8ed5a7d3d8a1",
   "metadata": {},
   "outputs": [],
   "source": [
    "results_Q1 = results.pivot(index='Post ID', columns='Coder ID', values='Attribution Presence')"
   ]
  },
  {
   "cell_type": "code",
   "execution_count": 11,
   "id": "8cf30202-2034-4217-ae08-87e69e677bc6",
   "metadata": {},
   "outputs": [
    {
     "data": {
      "text/html": [
       "<div>\n",
       "<style scoped>\n",
       "    .dataframe tbody tr th:only-of-type {\n",
       "        vertical-align: middle;\n",
       "    }\n",
       "\n",
       "    .dataframe tbody tr th {\n",
       "        vertical-align: top;\n",
       "    }\n",
       "\n",
       "    .dataframe thead th {\n",
       "        text-align: right;\n",
       "    }\n",
       "</style>\n",
       "<table border=\"1\" class=\"dataframe\">\n",
       "  <thead>\n",
       "    <tr style=\"text-align: right;\">\n",
       "      <th>Coder ID</th>\n",
       "      <th>Ada</th>\n",
       "      <th>Francesco</th>\n",
       "      <th>Luke</th>\n",
       "    </tr>\n",
       "    <tr>\n",
       "      <th>Post ID</th>\n",
       "      <th></th>\n",
       "      <th></th>\n",
       "      <th></th>\n",
       "    </tr>\n",
       "  </thead>\n",
       "  <tbody>\n",
       "    <tr>\n",
       "      <th>100</th>\n",
       "      <td>No</td>\n",
       "      <td>No</td>\n",
       "      <td>No</td>\n",
       "    </tr>\n",
       "    <tr>\n",
       "      <th>101</th>\n",
       "      <td>No</td>\n",
       "      <td>No</td>\n",
       "      <td>No</td>\n",
       "    </tr>\n",
       "    <tr>\n",
       "      <th>102</th>\n",
       "      <td>No</td>\n",
       "      <td>No</td>\n",
       "      <td>No</td>\n",
       "    </tr>\n",
       "    <tr>\n",
       "      <th>103</th>\n",
       "      <td>No</td>\n",
       "      <td>No</td>\n",
       "      <td>No</td>\n",
       "    </tr>\n",
       "    <tr>\n",
       "      <th>104</th>\n",
       "      <td>No</td>\n",
       "      <td>No</td>\n",
       "      <td>Yes</td>\n",
       "    </tr>\n",
       "    <tr>\n",
       "      <th>...</th>\n",
       "      <td>...</td>\n",
       "      <td>...</td>\n",
       "      <td>...</td>\n",
       "    </tr>\n",
       "    <tr>\n",
       "      <th>96</th>\n",
       "      <td>Yes</td>\n",
       "      <td>No</td>\n",
       "      <td>No</td>\n",
       "    </tr>\n",
       "    <tr>\n",
       "      <th>97</th>\n",
       "      <td>No</td>\n",
       "      <td>No</td>\n",
       "      <td>No</td>\n",
       "    </tr>\n",
       "    <tr>\n",
       "      <th>98</th>\n",
       "      <td>No</td>\n",
       "      <td>No</td>\n",
       "      <td>No</td>\n",
       "    </tr>\n",
       "    <tr>\n",
       "      <th>99</th>\n",
       "      <td>No</td>\n",
       "      <td>No</td>\n",
       "      <td>No</td>\n",
       "    </tr>\n",
       "    <tr>\n",
       "      <th>`144</th>\n",
       "      <td>NaN</td>\n",
       "      <td>No</td>\n",
       "      <td>NaN</td>\n",
       "    </tr>\n",
       "  </tbody>\n",
       "</table>\n",
       "<p>101 rows × 3 columns</p>\n",
       "</div>"
      ],
      "text/plain": [
       "Coder ID  Ada Francesco Luke\n",
       "Post ID                     \n",
       "100        No        No   No\n",
       "101        No        No   No\n",
       "102        No        No   No\n",
       "103        No        No   No\n",
       "104        No        No  Yes\n",
       "...       ...       ...  ...\n",
       "96        Yes        No   No\n",
       "97         No        No   No\n",
       "98         No        No   No\n",
       "99         No        No   No\n",
       "`144      NaN        No  NaN\n",
       "\n",
       "[101 rows x 3 columns]"
      ]
     },
     "execution_count": 11,
     "metadata": {},
     "output_type": "execute_result"
    }
   ],
   "source": [
    "results_Q1"
   ]
  },
  {
   "cell_type": "code",
   "execution_count": 12,
   "id": "8a1c0471-6357-4f69-8dea-80638b3b1b9d",
   "metadata": {},
   "outputs": [
    {
     "name": "stdout",
     "output_type": "stream",
     "text": [
      "Coder ID  Ada Francesco Luke\n",
      "Post ID                     \n",
      "104        No        No  Yes\n",
      "119        No        No  Yes\n",
      "128       Yes        No   No\n",
      "137       Yes        No   No\n",
      "138        No       Yes   No\n",
      "139       Yes       Yes   No\n",
      "142       Yes        No   No\n",
      "147       Yes        No   No\n",
      "149        No       Yes  Yes\n",
      "150        No        No  Yes\n",
      "53        Yes        No   No\n",
      "66         No       Yes   No\n",
      "71        Yes        No   No\n",
      "83        Yes        No   No\n",
      "84        Yes        No   No\n",
      "85        Yes       Yes   No\n",
      "86        Yes        No   No\n",
      "88        Yes        No  Yes\n",
      "96        Yes        No   No\n"
     ]
    },
    {
     "data": {
      "text/plain": [
       "19"
      ]
     },
     "execution_count": 12,
     "metadata": {},
     "output_type": "execute_result"
    }
   ],
   "source": [
    "def get_disagreement_rows(df):\n",
    "    return df[df.nunique(axis=1) > 1]\n",
    "\n",
    "disagreement_rows = get_disagreement_rows(results_Q1)\n",
    "print(disagreement_rows)"
   ]
  },
  {
   "cell_type": "code",
   "execution_count": 16,
   "id": "6fedc625-0fba-40ab-b413-75315b935fb6",
   "metadata": {},
   "outputs": [
    {
     "data": {
      "text/plain": [
       "19"
      ]
     },
     "execution_count": 16,
     "metadata": {},
     "output_type": "execute_result"
    }
   ],
   "source": [
    "len(disagreement_rows)"
   ]
  },
  {
   "cell_type": "code",
   "execution_count": 17,
   "id": "95c53bc9-1761-4ca4-9898-0308f022a294",
   "metadata": {},
   "outputs": [
    {
     "data": {
      "text/plain": [
       "0.81"
      ]
     },
     "execution_count": 17,
     "metadata": {},
     "output_type": "execute_result"
    }
   ],
   "source": [
    "(100-19)/100"
   ]
  },
  {
   "cell_type": "code",
   "execution_count": null,
   "id": "f74281b7-1af8-4b7a-82b8-948b57feaefa",
   "metadata": {},
   "outputs": [],
   "source": []
  }
 ],
 "metadata": {
  "kernelspec": {
   "display_name": "Python 3 (ipykernel)",
   "language": "python",
   "name": "python3"
  },
  "language_info": {
   "codemirror_mode": {
    "name": "ipython",
    "version": 3
   },
   "file_extension": ".py",
   "mimetype": "text/x-python",
   "name": "python",
   "nbconvert_exporter": "python",
   "pygments_lexer": "ipython3",
   "version": "3.12.5"
  }
 },
 "nbformat": 4,
 "nbformat_minor": 5
}
